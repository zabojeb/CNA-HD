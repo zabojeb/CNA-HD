{
 "cells": [
  {
   "cell_type": "code",
   "execution_count": 2,
   "metadata": {},
   "outputs": [],
   "source": [
    "import flask\n",
    "from flask import render_template_string"
   ]
  },
  {
   "cell_type": "code",
   "execution_count": null,
   "metadata": {},
   "outputs": [
    {
     "name": "stdout",
     "output_type": "stream",
     "text": [
      " * Serving Flask app '__main__'\n",
      " * Debug mode: off\n"
     ]
    },
    {
     "name": "stderr",
     "output_type": "stream",
     "text": [
      "WARNING: This is a development server. Do not use it in a production deployment. Use a production WSGI server instead.\n",
      " * Running on http://127.0.0.1:5000\n",
      "Press CTRL+C to quit\n",
      "127.0.0.1 - - [21/Nov/2024 19:12:37] \"GET / HTTP/1.1\" 200 -\n",
      "127.0.0.1 - - [21/Nov/2024 19:12:38] \"GET / HTTP/1.1\" 200 -\n"
     ]
    }
   ],
   "source": [
    "YANDEX_API_KEY = \"6fffa356-f251-4679-b684-878768ed3638\"\n",
    "\n",
    "app = flask.Flask(__name__)\n",
    "\n",
    "template = \"\"\"\n",
    "<!DOCTYPE html>\n",
    "<html>\n",
    "  <head>\n",
    "    <title>Быстрый старт. Размещение интерактивной карты на странице</title>\n",
    "    <meta http-equiv=\"Content-Type\" content=\"text/html; charset=utf-8\" />\n",
    "    <script src=\"https://api-maps.yandex.ru/v3/?apikey={YANDEX_API_KEY}&lang=ru_RU\"></script>\n",
    "    <script>\n",
    "    import {YMapDefaultMarker} from '@yandex/ymaps3-default-ui-theme';\n",
    "\n",
    "    map.addChild(\n",
    "    new YMapDefaultMarker({\n",
    "        coordinates: [34, 54],\n",
    "        title: 'Hello World!',\n",
    "        subtitle: 'kind and bright'\n",
    "    })\n",
    "    );\n",
    "\n",
    "        initMap();\n",
    "\n",
    "        async function initMap() {\n",
    "            await ymaps3.ready;\n",
    "\n",
    "            const {YMap, YMapDefaultSchemeLayer} = ymaps3;\n",
    "\n",
    "            const map = new YMap(\n",
    "                document.getElementById('map'),\n",
    "                {\n",
    "                    location: {\n",
    "                        center: [37.588144, 55.733842],\n",
    "                        zoom: 10\n",
    "                    }\n",
    "                }\n",
    "            );\n",
    "\n",
    "            map.addChild(new YMapDefaultSchemeLayer());\n",
    "        }\n",
    "    </script>\n",
    "  </head>\n",
    "\n",
    "  <body>\n",
    "    <div id=\"map\" style=\"width: 600px; height: 400px\"></div>\n",
    "  </body>\n",
    "</html>\n",
    "\"\"\"\n",
    "\n",
    "\n",
    "@app.route('/')\n",
    "def index():\n",
    "    return render_template_string(template)\n",
    "\n",
    "\n",
    "app.run()"
   ]
  },
  {
   "cell_type": "code",
   "execution_count": null,
   "metadata": {},
   "outputs": [],
   "source": []
  }
 ],
 "metadata": {
  "kernelspec": {
   "display_name": "Python 3",
   "language": "python",
   "name": "python3"
  },
  "language_info": {
   "codemirror_mode": {
    "name": "ipython",
    "version": 3
   },
   "file_extension": ".py",
   "mimetype": "text/x-python",
   "name": "python",
   "nbconvert_exporter": "python",
   "pygments_lexer": "ipython3",
   "version": "3.11.3"
  }
 },
 "nbformat": 4,
 "nbformat_minor": 2
}
