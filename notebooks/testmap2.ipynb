{
 "cells": [
  {
   "cell_type": "code",
   "execution_count": 5,
   "id": "71f3a699-04f7-493a-bd35-7b78fc00c3d5",
   "metadata": {},
   "outputs": [],
   "source": [
    "import plotly.express as px\n",
    "import pandas as pd\n",
    "import osmnx as ox\n",
    "import geopandas as gpd\n",
    "from geopy.geocoders import Nominatim\n",
    "import matplotlib.pyplot as plt"
   ]
  },
  {
   "cell_type": "code",
   "execution_count": 36,
   "id": "cd43964c-ad9d-4682-8a24-638dadc692ef",
   "metadata": {},
   "outputs": [],
   "source": [
    "def map(df):\n",
    "    \n",
    "    fig = px.scatter_map(df, lat=\"lat\", lon=\"lon\", hover_name=\"name\",\n",
    "                            color_discrete_sequence=[\"fuchsia\"], zoom=3, height=300)\n",
    "    fig.update_layout(map_style=\"open-street-map\")\n",
    "    fig.update_layout(margin={\"r\":0,\"t\":0,\"l\":0,\"b\":0})\n",
    "    fig.show()"
   ]
  },
  {
   "cell_type": "code",
   "execution_count": 37,
   "id": "0c9d3171-6e8c-4ecc-bd05-c883ec82ad20",
   "metadata": {},
   "outputs": [
    {
     "data": {
      "application/vnd.plotly.v1+json": {
       "config": {
        "plotlyServerURL": "https://plot.ly"
       },
       "data": [
        {
         "lat": [
          "45.5017"
         ],
         "lon": [
          "-73.5673"
         ],
         "marker": {
          "size": 14
         },
         "mode": "markers",
         "text": [
          "Montreal"
         ],
         "type": "scattermap"
        }
       ],
       "layout": {
        "hovermode": "closest",
        "map": {
         "bearing": 0,
         "center": {
          "lat": 45,
          "lon": -73
         },
         "pitch": 0,
         "zoom": 5
        },
        "template": {
         "data": {
          "bar": [
           {
            "error_x": {
             "color": "#2a3f5f"
            },
            "error_y": {
             "color": "#2a3f5f"
            },
            "marker": {
             "line": {
              "color": "#E5ECF6",
              "width": 0.5
             },
             "pattern": {
              "fillmode": "overlay",
              "size": 10,
              "solidity": 0.2
             }
            },
            "type": "bar"
           }
          ],
          "barpolar": [
           {
            "marker": {
             "line": {
              "color": "#E5ECF6",
              "width": 0.5
             },
             "pattern": {
              "fillmode": "overlay",
              "size": 10,
              "solidity": 0.2
             }
            },
            "type": "barpolar"
           }
          ],
          "carpet": [
           {
            "aaxis": {
             "endlinecolor": "#2a3f5f",
             "gridcolor": "white",
             "linecolor": "white",
             "minorgridcolor": "white",
             "startlinecolor": "#2a3f5f"
            },
            "baxis": {
             "endlinecolor": "#2a3f5f",
             "gridcolor": "white",
             "linecolor": "white",
             "minorgridcolor": "white",
             "startlinecolor": "#2a3f5f"
            },
            "type": "carpet"
           }
          ],
          "choropleth": [
           {
            "colorbar": {
             "outlinewidth": 0,
             "ticks": ""
            },
            "type": "choropleth"
           }
          ],
          "contour": [
           {
            "colorbar": {
             "outlinewidth": 0,
             "ticks": ""
            },
            "colorscale": [
             [
              0,
              "#0d0887"
             ],
             [
              0.1111111111111111,
              "#46039f"
             ],
             [
              0.2222222222222222,
              "#7201a8"
             ],
             [
              0.3333333333333333,
              "#9c179e"
             ],
             [
              0.4444444444444444,
              "#bd3786"
             ],
             [
              0.5555555555555556,
              "#d8576b"
             ],
             [
              0.6666666666666666,
              "#ed7953"
             ],
             [
              0.7777777777777778,
              "#fb9f3a"
             ],
             [
              0.8888888888888888,
              "#fdca26"
             ],
             [
              1,
              "#f0f921"
             ]
            ],
            "type": "contour"
           }
          ],
          "contourcarpet": [
           {
            "colorbar": {
             "outlinewidth": 0,
             "ticks": ""
            },
            "type": "contourcarpet"
           }
          ],
          "heatmap": [
           {
            "colorbar": {
             "outlinewidth": 0,
             "ticks": ""
            },
            "colorscale": [
             [
              0,
              "#0d0887"
             ],
             [
              0.1111111111111111,
              "#46039f"
             ],
             [
              0.2222222222222222,
              "#7201a8"
             ],
             [
              0.3333333333333333,
              "#9c179e"
             ],
             [
              0.4444444444444444,
              "#bd3786"
             ],
             [
              0.5555555555555556,
              "#d8576b"
             ],
             [
              0.6666666666666666,
              "#ed7953"
             ],
             [
              0.7777777777777778,
              "#fb9f3a"
             ],
             [
              0.8888888888888888,
              "#fdca26"
             ],
             [
              1,
              "#f0f921"
             ]
            ],
            "type": "heatmap"
           }
          ],
          "heatmapgl": [
           {
            "colorbar": {
             "outlinewidth": 0,
             "ticks": ""
            },
            "colorscale": [
             [
              0,
              "#0d0887"
             ],
             [
              0.1111111111111111,
              "#46039f"
             ],
             [
              0.2222222222222222,
              "#7201a8"
             ],
             [
              0.3333333333333333,
              "#9c179e"
             ],
             [
              0.4444444444444444,
              "#bd3786"
             ],
             [
              0.5555555555555556,
              "#d8576b"
             ],
             [
              0.6666666666666666,
              "#ed7953"
             ],
             [
              0.7777777777777778,
              "#fb9f3a"
             ],
             [
              0.8888888888888888,
              "#fdca26"
             ],
             [
              1,
              "#f0f921"
             ]
            ],
            "type": "heatmapgl"
           }
          ],
          "histogram": [
           {
            "marker": {
             "pattern": {
              "fillmode": "overlay",
              "size": 10,
              "solidity": 0.2
             }
            },
            "type": "histogram"
           }
          ],
          "histogram2d": [
           {
            "colorbar": {
             "outlinewidth": 0,
             "ticks": ""
            },
            "colorscale": [
             [
              0,
              "#0d0887"
             ],
             [
              0.1111111111111111,
              "#46039f"
             ],
             [
              0.2222222222222222,
              "#7201a8"
             ],
             [
              0.3333333333333333,
              "#9c179e"
             ],
             [
              0.4444444444444444,
              "#bd3786"
             ],
             [
              0.5555555555555556,
              "#d8576b"
             ],
             [
              0.6666666666666666,
              "#ed7953"
             ],
             [
              0.7777777777777778,
              "#fb9f3a"
             ],
             [
              0.8888888888888888,
              "#fdca26"
             ],
             [
              1,
              "#f0f921"
             ]
            ],
            "type": "histogram2d"
           }
          ],
          "histogram2dcontour": [
           {
            "colorbar": {
             "outlinewidth": 0,
             "ticks": ""
            },
            "colorscale": [
             [
              0,
              "#0d0887"
             ],
             [
              0.1111111111111111,
              "#46039f"
             ],
             [
              0.2222222222222222,
              "#7201a8"
             ],
             [
              0.3333333333333333,
              "#9c179e"
             ],
             [
              0.4444444444444444,
              "#bd3786"
             ],
             [
              0.5555555555555556,
              "#d8576b"
             ],
             [
              0.6666666666666666,
              "#ed7953"
             ],
             [
              0.7777777777777778,
              "#fb9f3a"
             ],
             [
              0.8888888888888888,
              "#fdca26"
             ],
             [
              1,
              "#f0f921"
             ]
            ],
            "type": "histogram2dcontour"
           }
          ],
          "mesh3d": [
           {
            "colorbar": {
             "outlinewidth": 0,
             "ticks": ""
            },
            "type": "mesh3d"
           }
          ],
          "parcoords": [
           {
            "line": {
             "colorbar": {
              "outlinewidth": 0,
              "ticks": ""
             }
            },
            "type": "parcoords"
           }
          ],
          "pie": [
           {
            "automargin": true,
            "type": "pie"
           }
          ],
          "scatter": [
           {
            "fillpattern": {
             "fillmode": "overlay",
             "size": 10,
             "solidity": 0.2
            },
            "type": "scatter"
           }
          ],
          "scatter3d": [
           {
            "line": {
             "colorbar": {
              "outlinewidth": 0,
              "ticks": ""
             }
            },
            "marker": {
             "colorbar": {
              "outlinewidth": 0,
              "ticks": ""
             }
            },
            "type": "scatter3d"
           }
          ],
          "scattercarpet": [
           {
            "marker": {
             "colorbar": {
              "outlinewidth": 0,
              "ticks": ""
             }
            },
            "type": "scattercarpet"
           }
          ],
          "scattergeo": [
           {
            "marker": {
             "colorbar": {
              "outlinewidth": 0,
              "ticks": ""
             }
            },
            "type": "scattergeo"
           }
          ],
          "scattergl": [
           {
            "marker": {
             "colorbar": {
              "outlinewidth": 0,
              "ticks": ""
             }
            },
            "type": "scattergl"
           }
          ],
          "scattermapbox": [
           {
            "marker": {
             "colorbar": {
              "outlinewidth": 0,
              "ticks": ""
             }
            },
            "type": "scattermapbox"
           }
          ],
          "scatterpolar": [
           {
            "marker": {
             "colorbar": {
              "outlinewidth": 0,
              "ticks": ""
             }
            },
            "type": "scatterpolar"
           }
          ],
          "scatterpolargl": [
           {
            "marker": {
             "colorbar": {
              "outlinewidth": 0,
              "ticks": ""
             }
            },
            "type": "scatterpolargl"
           }
          ],
          "scatterternary": [
           {
            "marker": {
             "colorbar": {
              "outlinewidth": 0,
              "ticks": ""
             }
            },
            "type": "scatterternary"
           }
          ],
          "surface": [
           {
            "colorbar": {
             "outlinewidth": 0,
             "ticks": ""
            },
            "colorscale": [
             [
              0,
              "#0d0887"
             ],
             [
              0.1111111111111111,
              "#46039f"
             ],
             [
              0.2222222222222222,
              "#7201a8"
             ],
             [
              0.3333333333333333,
              "#9c179e"
             ],
             [
              0.4444444444444444,
              "#bd3786"
             ],
             [
              0.5555555555555556,
              "#d8576b"
             ],
             [
              0.6666666666666666,
              "#ed7953"
             ],
             [
              0.7777777777777778,
              "#fb9f3a"
             ],
             [
              0.8888888888888888,
              "#fdca26"
             ],
             [
              1,
              "#f0f921"
             ]
            ],
            "type": "surface"
           }
          ],
          "table": [
           {
            "cells": {
             "fill": {
              "color": "#EBF0F8"
             },
             "line": {
              "color": "white"
             }
            },
            "header": {
             "fill": {
              "color": "#C8D4E3"
             },
             "line": {
              "color": "white"
             }
            },
            "type": "table"
           }
          ]
         },
         "layout": {
          "annotationdefaults": {
           "arrowcolor": "#2a3f5f",
           "arrowhead": 0,
           "arrowwidth": 1
          },
          "autotypenumbers": "strict",
          "coloraxis": {
           "colorbar": {
            "outlinewidth": 0,
            "ticks": ""
           }
          },
          "colorscale": {
           "diverging": [
            [
             0,
             "#8e0152"
            ],
            [
             0.1,
             "#c51b7d"
            ],
            [
             0.2,
             "#de77ae"
            ],
            [
             0.3,
             "#f1b6da"
            ],
            [
             0.4,
             "#fde0ef"
            ],
            [
             0.5,
             "#f7f7f7"
            ],
            [
             0.6,
             "#e6f5d0"
            ],
            [
             0.7,
             "#b8e186"
            ],
            [
             0.8,
             "#7fbc41"
            ],
            [
             0.9,
             "#4d9221"
            ],
            [
             1,
             "#276419"
            ]
           ],
           "sequential": [
            [
             0,
             "#0d0887"
            ],
            [
             0.1111111111111111,
             "#46039f"
            ],
            [
             0.2222222222222222,
             "#7201a8"
            ],
            [
             0.3333333333333333,
             "#9c179e"
            ],
            [
             0.4444444444444444,
             "#bd3786"
            ],
            [
             0.5555555555555556,
             "#d8576b"
            ],
            [
             0.6666666666666666,
             "#ed7953"
            ],
            [
             0.7777777777777778,
             "#fb9f3a"
            ],
            [
             0.8888888888888888,
             "#fdca26"
            ],
            [
             1,
             "#f0f921"
            ]
           ],
           "sequentialminus": [
            [
             0,
             "#0d0887"
            ],
            [
             0.1111111111111111,
             "#46039f"
            ],
            [
             0.2222222222222222,
             "#7201a8"
            ],
            [
             0.3333333333333333,
             "#9c179e"
            ],
            [
             0.4444444444444444,
             "#bd3786"
            ],
            [
             0.5555555555555556,
             "#d8576b"
            ],
            [
             0.6666666666666666,
             "#ed7953"
            ],
            [
             0.7777777777777778,
             "#fb9f3a"
            ],
            [
             0.8888888888888888,
             "#fdca26"
            ],
            [
             1,
             "#f0f921"
            ]
           ]
          },
          "colorway": [
           "#636efa",
           "#EF553B",
           "#00cc96",
           "#ab63fa",
           "#FFA15A",
           "#19d3f3",
           "#FF6692",
           "#B6E880",
           "#FF97FF",
           "#FECB52"
          ],
          "font": {
           "color": "#2a3f5f"
          },
          "geo": {
           "bgcolor": "white",
           "lakecolor": "white",
           "landcolor": "#E5ECF6",
           "showlakes": true,
           "showland": true,
           "subunitcolor": "white"
          },
          "hoverlabel": {
           "align": "left"
          },
          "hovermode": "closest",
          "mapbox": {
           "style": "light"
          },
          "paper_bgcolor": "white",
          "plot_bgcolor": "#E5ECF6",
          "polar": {
           "angularaxis": {
            "gridcolor": "white",
            "linecolor": "white",
            "ticks": ""
           },
           "bgcolor": "#E5ECF6",
           "radialaxis": {
            "gridcolor": "white",
            "linecolor": "white",
            "ticks": ""
           }
          },
          "scene": {
           "xaxis": {
            "backgroundcolor": "#E5ECF6",
            "gridcolor": "white",
            "gridwidth": 2,
            "linecolor": "white",
            "showbackground": true,
            "ticks": "",
            "zerolinecolor": "white"
           },
           "yaxis": {
            "backgroundcolor": "#E5ECF6",
            "gridcolor": "white",
            "gridwidth": 2,
            "linecolor": "white",
            "showbackground": true,
            "ticks": "",
            "zerolinecolor": "white"
           },
           "zaxis": {
            "backgroundcolor": "#E5ECF6",
            "gridcolor": "white",
            "gridwidth": 2,
            "linecolor": "white",
            "showbackground": true,
            "ticks": "",
            "zerolinecolor": "white"
           }
          },
          "shapedefaults": {
           "line": {
            "color": "#2a3f5f"
           }
          },
          "ternary": {
           "aaxis": {
            "gridcolor": "white",
            "linecolor": "white",
            "ticks": ""
           },
           "baxis": {
            "gridcolor": "white",
            "linecolor": "white",
            "ticks": ""
           },
           "bgcolor": "#E5ECF6",
           "caxis": {
            "gridcolor": "white",
            "linecolor": "white",
            "ticks": ""
           }
          },
          "title": {
           "x": 0.05
          },
          "xaxis": {
           "automargin": true,
           "gridcolor": "white",
           "linecolor": "white",
           "ticks": "",
           "title": {
            "standoff": 15
           },
           "zerolinecolor": "white",
           "zerolinewidth": 2
          },
          "yaxis": {
           "automargin": true,
           "gridcolor": "white",
           "linecolor": "white",
           "ticks": "",
           "title": {
            "standoff": 15
           },
           "zerolinecolor": "white",
           "zerolinewidth": 2
          }
         }
        }
       }
      },
      "text/html": [
       "<div>                            <div id=\"7306d861-3e8f-4280-bd2d-a733c38f75e9\" class=\"plotly-graph-div\" style=\"height:525px; width:100%;\"></div>            <script type=\"text/javascript\">                require([\"plotly\"], function(Plotly) {                    window.PLOTLYENV=window.PLOTLYENV || {};                                    if (document.getElementById(\"7306d861-3e8f-4280-bd2d-a733c38f75e9\")) {                    Plotly.newPlot(                        \"7306d861-3e8f-4280-bd2d-a733c38f75e9\",                        [{\"lat\":[\"45.5017\"],\"lon\":[\"-73.5673\"],\"marker\":{\"size\":14},\"mode\":\"markers\",\"text\":[\"Montreal\"],\"type\":\"scattermap\"}],                        {\"template\":{\"data\":{\"histogram2dcontour\":[{\"type\":\"histogram2dcontour\",\"colorbar\":{\"outlinewidth\":0,\"ticks\":\"\"},\"colorscale\":[[0.0,\"#0d0887\"],[0.1111111111111111,\"#46039f\"],[0.2222222222222222,\"#7201a8\"],[0.3333333333333333,\"#9c179e\"],[0.4444444444444444,\"#bd3786\"],[0.5555555555555556,\"#d8576b\"],[0.6666666666666666,\"#ed7953\"],[0.7777777777777778,\"#fb9f3a\"],[0.8888888888888888,\"#fdca26\"],[1.0,\"#f0f921\"]]}],\"choropleth\":[{\"type\":\"choropleth\",\"colorbar\":{\"outlinewidth\":0,\"ticks\":\"\"}}],\"histogram2d\":[{\"type\":\"histogram2d\",\"colorbar\":{\"outlinewidth\":0,\"ticks\":\"\"},\"colorscale\":[[0.0,\"#0d0887\"],[0.1111111111111111,\"#46039f\"],[0.2222222222222222,\"#7201a8\"],[0.3333333333333333,\"#9c179e\"],[0.4444444444444444,\"#bd3786\"],[0.5555555555555556,\"#d8576b\"],[0.6666666666666666,\"#ed7953\"],[0.7777777777777778,\"#fb9f3a\"],[0.8888888888888888,\"#fdca26\"],[1.0,\"#f0f921\"]]}],\"heatmap\":[{\"type\":\"heatmap\",\"colorbar\":{\"outlinewidth\":0,\"ticks\":\"\"},\"colorscale\":[[0.0,\"#0d0887\"],[0.1111111111111111,\"#46039f\"],[0.2222222222222222,\"#7201a8\"],[0.3333333333333333,\"#9c179e\"],[0.4444444444444444,\"#bd3786\"],[0.5555555555555556,\"#d8576b\"],[0.6666666666666666,\"#ed7953\"],[0.7777777777777778,\"#fb9f3a\"],[0.8888888888888888,\"#fdca26\"],[1.0,\"#f0f921\"]]}],\"heatmapgl\":[{\"type\":\"heatmapgl\",\"colorbar\":{\"outlinewidth\":0,\"ticks\":\"\"},\"colorscale\":[[0.0,\"#0d0887\"],[0.1111111111111111,\"#46039f\"],[0.2222222222222222,\"#7201a8\"],[0.3333333333333333,\"#9c179e\"],[0.4444444444444444,\"#bd3786\"],[0.5555555555555556,\"#d8576b\"],[0.6666666666666666,\"#ed7953\"],[0.7777777777777778,\"#fb9f3a\"],[0.8888888888888888,\"#fdca26\"],[1.0,\"#f0f921\"]]}],\"contourcarpet\":[{\"type\":\"contourcarpet\",\"colorbar\":{\"outlinewidth\":0,\"ticks\":\"\"}}],\"contour\":[{\"type\":\"contour\",\"colorbar\":{\"outlinewidth\":0,\"ticks\":\"\"},\"colorscale\":[[0.0,\"#0d0887\"],[0.1111111111111111,\"#46039f\"],[0.2222222222222222,\"#7201a8\"],[0.3333333333333333,\"#9c179e\"],[0.4444444444444444,\"#bd3786\"],[0.5555555555555556,\"#d8576b\"],[0.6666666666666666,\"#ed7953\"],[0.7777777777777778,\"#fb9f3a\"],[0.8888888888888888,\"#fdca26\"],[1.0,\"#f0f921\"]]}],\"surface\":[{\"type\":\"surface\",\"colorbar\":{\"outlinewidth\":0,\"ticks\":\"\"},\"colorscale\":[[0.0,\"#0d0887\"],[0.1111111111111111,\"#46039f\"],[0.2222222222222222,\"#7201a8\"],[0.3333333333333333,\"#9c179e\"],[0.4444444444444444,\"#bd3786\"],[0.5555555555555556,\"#d8576b\"],[0.6666666666666666,\"#ed7953\"],[0.7777777777777778,\"#fb9f3a\"],[0.8888888888888888,\"#fdca26\"],[1.0,\"#f0f921\"]]}],\"mesh3d\":[{\"type\":\"mesh3d\",\"colorbar\":{\"outlinewidth\":0,\"ticks\":\"\"}}],\"scatter\":[{\"fillpattern\":{\"fillmode\":\"overlay\",\"size\":10,\"solidity\":0.2},\"type\":\"scatter\"}],\"parcoords\":[{\"type\":\"parcoords\",\"line\":{\"colorbar\":{\"outlinewidth\":0,\"ticks\":\"\"}}}],\"scatterpolargl\":[{\"type\":\"scatterpolargl\",\"marker\":{\"colorbar\":{\"outlinewidth\":0,\"ticks\":\"\"}}}],\"bar\":[{\"error_x\":{\"color\":\"#2a3f5f\"},\"error_y\":{\"color\":\"#2a3f5f\"},\"marker\":{\"line\":{\"color\":\"#E5ECF6\",\"width\":0.5},\"pattern\":{\"fillmode\":\"overlay\",\"size\":10,\"solidity\":0.2}},\"type\":\"bar\"}],\"scattergeo\":[{\"type\":\"scattergeo\",\"marker\":{\"colorbar\":{\"outlinewidth\":0,\"ticks\":\"\"}}}],\"scatterpolar\":[{\"type\":\"scatterpolar\",\"marker\":{\"colorbar\":{\"outlinewidth\":0,\"ticks\":\"\"}}}],\"histogram\":[{\"marker\":{\"pattern\":{\"fillmode\":\"overlay\",\"size\":10,\"solidity\":0.2}},\"type\":\"histogram\"}],\"scattergl\":[{\"type\":\"scattergl\",\"marker\":{\"colorbar\":{\"outlinewidth\":0,\"ticks\":\"\"}}}],\"scatter3d\":[{\"type\":\"scatter3d\",\"line\":{\"colorbar\":{\"outlinewidth\":0,\"ticks\":\"\"}},\"marker\":{\"colorbar\":{\"outlinewidth\":0,\"ticks\":\"\"}}}],\"scattermapbox\":[{\"type\":\"scattermapbox\",\"marker\":{\"colorbar\":{\"outlinewidth\":0,\"ticks\":\"\"}}}],\"scatterternary\":[{\"type\":\"scatterternary\",\"marker\":{\"colorbar\":{\"outlinewidth\":0,\"ticks\":\"\"}}}],\"scattercarpet\":[{\"type\":\"scattercarpet\",\"marker\":{\"colorbar\":{\"outlinewidth\":0,\"ticks\":\"\"}}}],\"carpet\":[{\"aaxis\":{\"endlinecolor\":\"#2a3f5f\",\"gridcolor\":\"white\",\"linecolor\":\"white\",\"minorgridcolor\":\"white\",\"startlinecolor\":\"#2a3f5f\"},\"baxis\":{\"endlinecolor\":\"#2a3f5f\",\"gridcolor\":\"white\",\"linecolor\":\"white\",\"minorgridcolor\":\"white\",\"startlinecolor\":\"#2a3f5f\"},\"type\":\"carpet\"}],\"table\":[{\"cells\":{\"fill\":{\"color\":\"#EBF0F8\"},\"line\":{\"color\":\"white\"}},\"header\":{\"fill\":{\"color\":\"#C8D4E3\"},\"line\":{\"color\":\"white\"}},\"type\":\"table\"}],\"barpolar\":[{\"marker\":{\"line\":{\"color\":\"#E5ECF6\",\"width\":0.5},\"pattern\":{\"fillmode\":\"overlay\",\"size\":10,\"solidity\":0.2}},\"type\":\"barpolar\"}],\"pie\":[{\"automargin\":true,\"type\":\"pie\"}]},\"layout\":{\"autotypenumbers\":\"strict\",\"colorway\":[\"#636efa\",\"#EF553B\",\"#00cc96\",\"#ab63fa\",\"#FFA15A\",\"#19d3f3\",\"#FF6692\",\"#B6E880\",\"#FF97FF\",\"#FECB52\"],\"font\":{\"color\":\"#2a3f5f\"},\"hovermode\":\"closest\",\"hoverlabel\":{\"align\":\"left\"},\"paper_bgcolor\":\"white\",\"plot_bgcolor\":\"#E5ECF6\",\"polar\":{\"bgcolor\":\"#E5ECF6\",\"angularaxis\":{\"gridcolor\":\"white\",\"linecolor\":\"white\",\"ticks\":\"\"},\"radialaxis\":{\"gridcolor\":\"white\",\"linecolor\":\"white\",\"ticks\":\"\"}},\"ternary\":{\"bgcolor\":\"#E5ECF6\",\"aaxis\":{\"gridcolor\":\"white\",\"linecolor\":\"white\",\"ticks\":\"\"},\"baxis\":{\"gridcolor\":\"white\",\"linecolor\":\"white\",\"ticks\":\"\"},\"caxis\":{\"gridcolor\":\"white\",\"linecolor\":\"white\",\"ticks\":\"\"}},\"coloraxis\":{\"colorbar\":{\"outlinewidth\":0,\"ticks\":\"\"}},\"colorscale\":{\"sequential\":[[0.0,\"#0d0887\"],[0.1111111111111111,\"#46039f\"],[0.2222222222222222,\"#7201a8\"],[0.3333333333333333,\"#9c179e\"],[0.4444444444444444,\"#bd3786\"],[0.5555555555555556,\"#d8576b\"],[0.6666666666666666,\"#ed7953\"],[0.7777777777777778,\"#fb9f3a\"],[0.8888888888888888,\"#fdca26\"],[1.0,\"#f0f921\"]],\"sequentialminus\":[[0.0,\"#0d0887\"],[0.1111111111111111,\"#46039f\"],[0.2222222222222222,\"#7201a8\"],[0.3333333333333333,\"#9c179e\"],[0.4444444444444444,\"#bd3786\"],[0.5555555555555556,\"#d8576b\"],[0.6666666666666666,\"#ed7953\"],[0.7777777777777778,\"#fb9f3a\"],[0.8888888888888888,\"#fdca26\"],[1.0,\"#f0f921\"]],\"diverging\":[[0,\"#8e0152\"],[0.1,\"#c51b7d\"],[0.2,\"#de77ae\"],[0.3,\"#f1b6da\"],[0.4,\"#fde0ef\"],[0.5,\"#f7f7f7\"],[0.6,\"#e6f5d0\"],[0.7,\"#b8e186\"],[0.8,\"#7fbc41\"],[0.9,\"#4d9221\"],[1,\"#276419\"]]},\"xaxis\":{\"gridcolor\":\"white\",\"linecolor\":\"white\",\"ticks\":\"\",\"title\":{\"standoff\":15},\"zerolinecolor\":\"white\",\"automargin\":true,\"zerolinewidth\":2},\"yaxis\":{\"gridcolor\":\"white\",\"linecolor\":\"white\",\"ticks\":\"\",\"title\":{\"standoff\":15},\"zerolinecolor\":\"white\",\"automargin\":true,\"zerolinewidth\":2},\"scene\":{\"xaxis\":{\"backgroundcolor\":\"#E5ECF6\",\"gridcolor\":\"white\",\"linecolor\":\"white\",\"showbackground\":true,\"ticks\":\"\",\"zerolinecolor\":\"white\",\"gridwidth\":2},\"yaxis\":{\"backgroundcolor\":\"#E5ECF6\",\"gridcolor\":\"white\",\"linecolor\":\"white\",\"showbackground\":true,\"ticks\":\"\",\"zerolinecolor\":\"white\",\"gridwidth\":2},\"zaxis\":{\"backgroundcolor\":\"#E5ECF6\",\"gridcolor\":\"white\",\"linecolor\":\"white\",\"showbackground\":true,\"ticks\":\"\",\"zerolinecolor\":\"white\",\"gridwidth\":2}},\"shapedefaults\":{\"line\":{\"color\":\"#2a3f5f\"}},\"annotationdefaults\":{\"arrowcolor\":\"#2a3f5f\",\"arrowhead\":0,\"arrowwidth\":1},\"geo\":{\"bgcolor\":\"white\",\"landcolor\":\"#E5ECF6\",\"subunitcolor\":\"white\",\"showland\":true,\"showlakes\":true,\"lakecolor\":\"white\"},\"title\":{\"x\":0.05},\"mapbox\":{\"style\":\"light\"}}},\"map\":{\"bearing\":0,\"center\":{\"lat\":45,\"lon\":-73},\"pitch\":0,\"zoom\":5},\"hovermode\":\"closest\"},                        {\"responsive\": true}                    ).then(function(){\n",
       "                            \n",
       "var gd = document.getElementById('7306d861-3e8f-4280-bd2d-a733c38f75e9');\n",
       "var x = new MutationObserver(function (mutations, observer) {{\n",
       "        var display = window.getComputedStyle(gd).display;\n",
       "        if (!display || display === 'none') {{\n",
       "            console.log([gd, 'removed!']);\n",
       "            Plotly.purge(gd);\n",
       "            observer.disconnect();\n",
       "        }}\n",
       "}});\n",
       "\n",
       "// Listen for the removal of the full notebook cells\n",
       "var notebookContainer = gd.closest('#notebook-container');\n",
       "if (notebookContainer) {{\n",
       "    x.observe(notebookContainer, {childList: true});\n",
       "}}\n",
       "\n",
       "// Listen for the clearing of the current output cell\n",
       "var outputEl = gd.closest('.output');\n",
       "if (outputEl) {{\n",
       "    x.observe(outputEl, {childList: true});\n",
       "}}\n",
       "\n",
       "                        })                };                });            </script>        </div>"
      ]
     },
     "metadata": {},
     "output_type": "display_data"
    }
   ],
   "source": [
    "import plotly.graph_objects as go\n",
    "\n",
    "fig = go.Figure(go.Scattermap(\n",
    "        lat=['45.5017'],\n",
    "        lon=['-73.5673'],\n",
    "        mode='markers',\n",
    "        marker=go.scattermap.Marker(\n",
    "            size=14\n",
    "        ),\n",
    "        text=['Montreal'],\n",
    "    ))\n",
    "\n",
    "fig.update_layout(\n",
    "    hovermode='closest',\n",
    "    map=dict(\n",
    "        bearing=0,\n",
    "        center=go.layout.map.Center(\n",
    "            lat=45,\n",
    "            lon=-73\n",
    "        ),\n",
    "        pitch=0,\n",
    "        zoom=5\n",
    "    )\n",
    ")\n",
    "\n",
    "fig.show()"
   ]
  },
  {
   "cell_type": "code",
   "execution_count": 34,
   "id": "5599f363-4821-4118-b7a8-0efd0040235e",
   "metadata": {},
   "outputs": [],
   "source": [
    "def plot_nearby_places(address, distance=500):\n",
    "    # Инициализируем геоколлектор\n",
    "    geolocator = Nominatim(user_agent=\"i2d\")\n",
    "\n",
    "    # Получаем координаты по адресу\n",
    "    location = geolocator.geocode(address)\n",
    "    if location is None:\n",
    "        print(\"Не удалось найти адрес.\")\n",
    "        return\n",
    "\n",
    "    # Получаем координаты\n",
    "    latitude = location.latitude\n",
    "    longitude = location.longitude\n",
    "\n",
    "    # Создаем точку на карте\n",
    "    point = gpd.GeoDataFrame(geometry=gpd.points_from_xy([longitude], [latitude]), crs=\"EPSG:4326\")\n",
    "\n",
    "    # Находим заведения поблизости\n",
    "    tags = {'amenity': True}\n",
    "    nearby_places = ox.features.features_from_point((latitude, longitude), dist=distance, tags=tags)\n",
    "    data_lon = []\n",
    "    data_lat = []\n",
    "    nearby_places = nearby_places[['name', 'geometry']]\n",
    "    n_p = nearby_places.copy(deep=True)\n",
    "    indexes_to_del = []\n",
    "    for i, r in nearby_places.iterrows():\n",
    "        # print((r['geometry']))\n",
    "        if str(r['geometry']).startswith(\"POINT\"):\n",
    "            x,y = r['geometry'].x,r['geometry'].y\n",
    "            data_lon.append(x)\n",
    "            data_lat.append(y)\n",
    "        else:\n",
    "            indexes_to_del.append(i)\n",
    "            \n",
    "    n_p = nearby_places.drop(indexes_to_del)\n",
    "    n_p['lon'] = data_lon\n",
    "    n_p['lat'] = data_lat\n",
    "        \n",
    "\n",
    "    print(n_p)\n",
    "    map(n_p)"
   ]
  },
  {
   "cell_type": "code",
   "execution_count": 38,
   "id": "d4ab6904-19eb-4157-a211-5780cbc67068",
   "metadata": {},
   "outputs": [
    {
     "name": "stdout",
     "output_type": "stream",
     "text": [
      "                                  name                   geometry        lon  \\\n",
      "element_type osmid                                                             \n",
      "node         529550640             ВТБ  POINT (37.61398 55.75714)  37.613981   \n",
      "             784052391             NaN  POINT (37.61735 55.75486)  37.617345   \n",
      "             1074714681   Фестивальное  POINT (37.62266 55.75453)  37.622660   \n",
      "             1074714701            NaN  POINT (37.62280 55.75402)  37.622805   \n",
      "             1074714713   Столовая №57  POINT (37.62336 55.75421)  37.623361   \n",
      "...                                ...                        ...        ...   \n",
      "             12020167805       Сгоряча  POINT (37.61767 55.75793)  37.617673   \n",
      "             12084636507  Пан Круассан  POINT (37.61472 55.75593)  37.614717   \n",
      "             12112361264          СДЭК  POINT (37.61620 55.75619)  37.616197   \n",
      "             12198973957      Öz kebab  POINT (37.62745 55.75709)  37.627445   \n",
      "             12273425606    Varvarka 3  POINT (37.62623 55.75374)  37.626226   \n",
      "\n",
      "                                lat  \n",
      "element_type osmid                   \n",
      "node         529550640    55.757140  \n",
      "             784052391    55.754858  \n",
      "             1074714681   55.754531  \n",
      "             1074714701   55.754018  \n",
      "             1074714713   55.754210  \n",
      "...                             ...  \n",
      "             12020167805  55.757934  \n",
      "             12084636507  55.755929  \n",
      "             12112361264  55.756189  \n",
      "             12198973957  55.757091  \n",
      "             12273425606  55.753741  \n",
      "\n",
      "[270 rows x 4 columns]\n"
     ]
    },
    {
     "data": {
      "application/vnd.plotly.v1+json": {
       "config": {
        "plotlyServerURL": "https://plot.ly"
       },
       "data": [
        {
         "hovertemplate": "<b>%{hovertext}</b><br><br>lat=%{lat}<br>lon=%{lon}<extra></extra>",
         "hovertext": [
          "ВТБ",
          null,
          "Фестивальное",
          null,
          "Столовая №57",
          "Большой театр. Камерная сцена им. Б. А. Покровского",
          "Старая Башня",
          null,
          null,
          null,
          null,
          "Вкусно — и точка",
          null,
          "Кремлёвские куранты",
          "Casa Agave",
          "Oldschool",
          "Москва 109012",
          "Придел Александра Свирского",
          "Церковь Варлаама Хутынского",
          "Придел Василия Блаженного",
          "Придел Григория Армянского",
          "Придел Киприана и Иустины",
          "Придел Николы Великорецкого",
          "Придел Святой Троицы",
          "Придел Трёх Патриархов",
          null,
          null,
          "Novikov",
          null,
          "Кофемания",
          "La Bottega Siciliana",
          null,
          "Peshi",
          null,
          null,
          "Высота 5642",
          "Натахтари",
          "Ригла",
          "Ciderella",
          "Кофе Гурмэ",
          "Il Pittore",
          "Хинкальная",
          "Хлеб Насущный",
          "Coba",
          "Разведка",
          "Белуга",
          "Dr. Живаго",
          "Русское географическое общество",
          "Bosco Café",
          "Москва",
          "Придел Входа Господня в Иерусалим",
          null,
          null,
          "Шоколадница",
          "Mexican Club",
          "Quadrum",
          "Юлина кухня",
          "Москва",
          null,
          null,
          null,
          null,
          null,
          null,
          null,
          null,
          null,
          null,
          "Вареничная №1",
          "Коопвнешторг",
          "A.v.e",
          "Теремок",
          "Cofix",
          null,
          null,
          null,
          null,
          null,
          null,
          null,
          null,
          null,
          null,
          null,
          null,
          null,
          null,
          null,
          null,
          null,
          null,
          null,
          null,
          null,
          null,
          null,
          null,
          null,
          null,
          null,
          null,
          null,
          null,
          null,
          null,
          null,
          null,
          null,
          null,
          null,
          null,
          null,
          null,
          null,
          null,
          null,
          null,
          null,
          null,
          null,
          null,
          "Movenpick",
          null,
          null,
          "Карло",
          null,
          null,
          null,
          null,
          "Royal",
          null,
          null,
          null,
          "Шоколадница",
          "Cofix",
          "Восход",
          "Зарядье - Въезд",
          null,
          "Solo",
          "Конституционный суд Российской Федерации Представительство в городе Москве",
          null,
          "BB&Burgers",
          "Медицинский центр ФГБУ «МФК Минфина России»",
          "Магадан",
          "Отдел полиции Китай-город",
          "Кольчуга",
          "Il pizzaiolo",
          null,
          "ГУМ Кинозал",
          "Чуррос",
          "Замечательные люди",
          null,
          "Вокруг света",
          "ВТБ",
          "Вареничная №1",
          null,
          "36,6",
          null,
          null,
          "Зарядье - Въезд",
          "Траппист",
          "KFC",
          "Красная площадь, дом 1",
          "Дублинец",
          null,
          null,
          null,
          "Ave-Luxury",
          "Поликлиника в Старопанском переулке Детского медицинского центра Управления делами Президента РФ",
          null,
          "Сорока",
          null,
          null,
          null,
          null,
          "Brasserie Lambic",
          null,
          null,
          null,
          null,
          "Воскресная школа",
          "Трапезная",
          "Контрразведка",
          null,
          null,
          "Добрая аптека",
          null,
          null,
          null,
          null,
          "Барка",
          null,
          "Lobby",
          "Cinnabon",
          "Cinnabon",
          "Prosvet",
          "Barbosco",
          "Бургер Кинг",
          null,
          "Реберная № 1",
          "Доктор Столетов",
          "Tehnikum",
          null,
          "Пушкинъ",
          null,
          "Двойная жизнь Вероники",
          null,
          null,
          null,
          null,
          null,
          null,
          "Кремлевский",
          null,
          null,
          null,
          "Место притяжения",
          null,
          "Farsh",
          "Тоттори",
          "Каппо Хироки Аракава",
          null,
          null,
          null,
          null,
          "Surf Coffee",
          null,
          "Кофеин",
          "KFC",
          "Varvarka III",
          null,
          "Трактир на Никольской",
          "Башня",
          null,
          "36,6",
          "Селёдочная",
          "Барвиха Lounge Красная площадь",
          "Франклинс Бургер",
          null,
          "Cofix",
          "Cofix",
          "Boft",
          null,
          null,
          null,
          null,
          null,
          null,
          "Boft",
          "Boft",
          null,
          null,
          null,
          null,
          "Хачапури",
          null,
          "Beyoglu doner",
          "Международный коммерческий арбитражный суд",
          "Трапезная",
          "Boft",
          null,
          null,
          null,
          null,
          null,
          "Сгоряча",
          "Пан Круассан",
          "СДЭК",
          "Öz kebab",
          "Varvarka 3"
         ],
         "lat": [
          55.7571401,
          55.754858,
          55.7545312,
          55.754018,
          55.7542097,
          55.7580473,
          55.756857,
          55.75479,
          55.7547109,
          55.7568616,
          55.756964,
          55.7579448,
          55.7533526,
          55.752513,
          55.7560747,
          55.756476,
          55.7561901,
          55.752461,
          55.7523911,
          55.7526127,
          55.7525095,
          55.7525943,
          55.7523737,
          55.7525436,
          55.7525796,
          55.7546066,
          55.754334,
          55.7570988,
          55.7573599,
          55.7547747,
          55.757616,
          55.757267,
          55.7573348,
          55.7579755,
          55.7563819,
          55.7559625,
          55.7570554,
          55.7569419,
          55.7569529,
          55.756879,
          55.7578877,
          55.7558348,
          55.7573552,
          55.7580884,
          55.7579953,
          55.7566151,
          55.7568327,
          55.7578437,
          55.7547905,
          55.7570284,
          55.7524227,
          55.7562592,
          55.7563186,
          55.7557646,
          55.757242,
          55.7567889,
          55.7572632,
          55.7570001,
          55.7533386,
          55.7533588,
          55.7533648,
          55.7533713,
          55.753389,
          55.7533949,
          55.7534015,
          55.7534204,
          55.7534265,
          55.753433,
          55.7566287,
          55.7568604,
          55.7574978,
          55.7571927,
          55.7568131,
          55.7576135,
          55.7579628,
          55.7579957,
          55.7579442,
          55.7580344,
          55.7580357,
          55.7580515,
          55.758055,
          55.7580733,
          55.7564805,
          55.7565035,
          55.7565184,
          55.7565252,
          55.7565341,
          55.7565447,
          55.7565654,
          55.7565688,
          55.7565764,
          55.756582,
          55.7566088,
          55.7566114,
          55.7566265,
          55.7566392,
          55.7566422,
          55.756653,
          55.7566539,
          55.7566667,
          55.7566677,
          55.7566831,
          55.7566863,
          55.756699,
          55.7567058,
          55.7567107,
          55.7567216,
          55.7567258,
          55.756732,
          55.7567407,
          55.7567488,
          55.7567582,
          55.7567671,
          55.7567741,
          55.7567792,
          55.7567963,
          55.7568477,
          55.7568527,
          55.7568592,
          55.7568646,
          55.756865,
          55.7558969,
          55.7555276,
          55.755539,
          55.7568053,
          55.7552606,
          55.7541198,
          55.7512897,
          55.7553879,
          55.7543287,
          55.7543581,
          55.7527256,
          55.7557797,
          55.7566505,
          55.7554675,
          55.7504139,
          55.7507434,
          55.7508237,
          55.7561463,
          55.756636,
          55.7501617,
          55.7572998,
          55.7554501,
          55.7546245,
          55.7548215,
          55.752811,
          55.7567575,
          55.7567376,
          55.7550914,
          55.757236,
          55.7558515,
          55.7515235,
          55.7577988,
          55.7552177,
          55.7573813,
          55.7568925,
          55.7555988,
          55.7501554,
          55.7501612,
          55.7506765,
          55.7567303,
          55.755734,
          55.7553617,
          55.7576167,
          55.7557803,
          55.7558044,
          55.7558305,
          55.7580255,
          55.7565557,
          55.7576737,
          55.7577405,
          55.7573511,
          55.7572728,
          55.751521,
          55.7514475,
          55.7563081,
          55.7561655,
          55.7561841,
          55.7569876,
          55.7563353,
          55.7559308,
          55.7558486,
          55.7580454,
          55.7572002,
          55.75721,
          55.7562108,
          55.7579291,
          55.7576209,
          55.7578984,
          55.7564359,
          55.7542434,
          55.7574137,
          55.7526441,
          55.7561893,
          55.7579941,
          55.7546358,
          55.7540226,
          55.755561,
          55.7543188,
          55.7572179,
          55.7546631,
          55.757949,
          55.7539887,
          55.7546584,
          55.7558965,
          55.7579249,
          55.7525214,
          55.750279,
          55.750123,
          55.7500468,
          55.7501218,
          55.75002,
          55.7517179,
          55.7502716,
          55.7502242,
          55.7564156,
          55.7568301,
          55.7553057,
          55.755952,
          55.7572952,
          55.7572817,
          55.7497101,
          55.7497725,
          55.7498187,
          55.755778,
          55.7573283,
          55.7569121,
          55.7570421,
          55.7553637,
          55.7530026,
          55.7523936,
          55.7575767,
          55.7574673,
          55.7576183,
          55.7578898,
          55.7546449,
          55.7550856,
          55.7559612,
          55.7523994,
          55.7555188,
          55.7558418,
          55.7560516,
          55.7541566,
          55.7541796,
          55.7541664,
          55.7541234,
          55.7540713,
          55.7540502,
          55.7516169,
          55.7558463,
          55.7554773,
          55.7509614,
          55.7509081,
          55.7545337,
          55.75715,
          55.7574201,
          55.75671,
          55.7549181,
          55.7525567,
          55.7516803,
          55.7574692,
          55.7574466,
          55.7563753,
          55.7554487,
          55.7527007,
          55.7579343,
          55.7559293,
          55.7561886,
          55.7570906,
          55.7537414
         ],
         "legendgroup": "",
         "lon": [
          37.6139807,
          37.617345,
          37.6226597,
          37.6228046,
          37.6233607,
          37.6235011,
          37.6205031,
          37.617461,
          37.6214272,
          37.6182981,
          37.6269639,
          37.6239958,
          37.6140243,
          37.621358,
          37.6275041,
          37.6271334,
          37.6207027,
          37.6232415,
          37.6229993,
          37.6232411,
          37.62289,
          37.6229716,
          37.6231678,
          37.6232686,
          37.6231319,
          37.6233923,
          37.6239086,
          37.6135141,
          37.6173907,
          37.6215849,
          37.6184195,
          37.6164427,
          37.6169663,
          37.6245333,
          37.6156302,
          37.6276128,
          37.6283613,
          37.6224057,
          37.6219421,
          37.621849,
          37.6248832,
          37.6237604,
          37.6230002,
          37.6272958,
          37.6274118,
          37.6140374,
          37.6143686,
          37.6267745,
          37.6201907,
          37.6174063,
          37.6228549,
          37.6291853,
          37.6291892,
          37.6278851,
          37.6167996,
          37.6168419,
          37.6171923,
          37.6175175,
          37.6141067,
          37.6139674,
          37.6139367,
          37.613903,
          37.6138117,
          37.613781,
          37.6137473,
          37.6136499,
          37.6136184,
          37.6135847,
          37.6214967,
          37.6269709,
          37.6168143,
          37.6227562,
          37.6212521,
          37.6193703,
          37.6194043,
          37.6193851,
          37.6194151,
          37.6193626,
          37.6196016,
          37.6195923,
          37.6193506,
          37.6201596,
          37.6176057,
          37.6175702,
          37.6176892,
          37.617813,
          37.6177157,
          37.6178934,
          37.6178522,
          37.6176524,
          37.6178307,
          37.6176725,
          37.6176617,
          37.6178361,
          37.6179725,
          37.6177083,
          37.6178857,
          37.6177965,
          37.6179199,
          37.618106,
          37.6179974,
          37.6179668,
          37.6180694,
          37.6178327,
          37.6180366,
          37.6178079,
          37.6179166,
          37.6181241,
          37.6179336,
          37.6182089,
          37.6180668,
          37.6181861,
          37.6179283,
          37.6180906,
          37.6182555,
          37.618049,
          37.6181167,
          37.6182025,
          37.6181559,
          37.6180835,
          37.6181797,
          37.6145071,
          37.6149497,
          37.6149841,
          37.622624,
          37.6209163,
          37.622252,
          37.6247583,
          37.6233132,
          37.6261085,
          37.6244282,
          37.6285135,
          37.6280112,
          37.6192744,
          37.6140437,
          37.6270957,
          37.6262315,
          37.6262539,
          37.6274403,
          37.6282777,
          37.6269413,
          37.6229147,
          37.6268729,
          37.6247312,
          37.6240607,
          37.6272987,
          37.6216802,
          37.6213449,
          37.6215888,
          37.6228204,
          37.6281685,
          37.6167818,
          37.6242387,
          37.6211672,
          37.6212484,
          37.614581,
          37.6142277,
          37.6290421,
          37.6287592,
          37.6262513,
          37.6269019,
          37.615382,
          37.6182191,
          37.6243597,
          37.624292,
          37.6242518,
          37.6242075,
          37.6239473,
          37.6259261,
          37.6230488,
          37.6230642,
          37.6226125,
          37.6225,
          37.6254299,
          37.6253877,
          37.627282,
          37.6207059,
          37.6207402,
          37.6276564,
          37.625045,
          37.6229636,
          37.6228188,
          37.6273531,
          37.627976,
          37.6280156,
          37.6283535,
          37.6277795,
          37.6246333,
          37.6250828,
          37.6138389,
          37.6261944,
          37.6137288,
          37.6260991,
          37.6150605,
          37.6249149,
          37.6256038,
          37.6216836,
          37.6148835,
          37.624687,
          37.6209207,
          37.6225211,
          37.6238717,
          37.6234907,
          37.6212906,
          37.6146716,
          37.6263505,
          37.6268533,
          37.6248211,
          37.6248352,
          37.6249082,
          37.6248678,
          37.6248683,
          37.6165663,
          37.6248749,
          37.6248861,
          37.6174842,
          37.6212191,
          37.618159,
          37.6145294,
          37.6283482,
          37.6171365,
          37.6158224,
          37.6156149,
          37.6159556,
          37.614617,
          37.618313,
          37.621053,
          37.6220902,
          37.6148174,
          37.6275086,
          37.6273685,
          37.6233083,
          37.6231554,
          37.6233636,
          37.6244563,
          37.6136373,
          37.6225653,
          37.6145884,
          37.6216258,
          37.6147655,
          37.6150821,
          37.6147252,
          37.6139762,
          37.6140614,
          37.6142398,
          37.614333,
          37.6143578,
          37.6135305,
          37.6290134,
          37.6139797,
          37.6153008,
          37.6210793,
          37.6211777,
          37.613609,
          37.6207877,
          37.6153844,
          37.6216178,
          37.6251416,
          37.6275028,
          37.6293325,
          37.6196679,
          37.6195465,
          37.6175483,
          37.6201365,
          37.62613,
          37.6176729,
          37.6147172,
          37.6161972,
          37.6274452,
          37.626226
         ],
         "marker": {
          "color": "fuchsia"
         },
         "mode": "markers",
         "name": "",
         "showlegend": false,
         "subplot": "map",
         "type": "scattermap"
        }
       ],
       "layout": {
        "height": 300,
        "legend": {
         "tracegroupgap": 0
        },
        "map": {
         "center": {
          "lat": 55.75546400296297,
          "lon": 37.620843952962964
         },
         "domain": {
          "x": [
           0,
           1
          ],
          "y": [
           0,
           1
          ]
         },
         "style": "open-street-map",
         "zoom": 3
        },
        "mapbox": {
         "center": {
          "lat": 55.75546400296297,
          "lon": 37.620843952962964
         },
         "zoom": 3
        },
        "margin": {
         "b": 0,
         "l": 0,
         "r": 0,
         "t": 0
        },
        "template": {
         "data": {
          "bar": [
           {
            "error_x": {
             "color": "#2a3f5f"
            },
            "error_y": {
             "color": "#2a3f5f"
            },
            "marker": {
             "line": {
              "color": "#E5ECF6",
              "width": 0.5
             },
             "pattern": {
              "fillmode": "overlay",
              "size": 10,
              "solidity": 0.2
             }
            },
            "type": "bar"
           }
          ],
          "barpolar": [
           {
            "marker": {
             "line": {
              "color": "#E5ECF6",
              "width": 0.5
             },
             "pattern": {
              "fillmode": "overlay",
              "size": 10,
              "solidity": 0.2
             }
            },
            "type": "barpolar"
           }
          ],
          "carpet": [
           {
            "aaxis": {
             "endlinecolor": "#2a3f5f",
             "gridcolor": "white",
             "linecolor": "white",
             "minorgridcolor": "white",
             "startlinecolor": "#2a3f5f"
            },
            "baxis": {
             "endlinecolor": "#2a3f5f",
             "gridcolor": "white",
             "linecolor": "white",
             "minorgridcolor": "white",
             "startlinecolor": "#2a3f5f"
            },
            "type": "carpet"
           }
          ],
          "choropleth": [
           {
            "colorbar": {
             "outlinewidth": 0,
             "ticks": ""
            },
            "type": "choropleth"
           }
          ],
          "contour": [
           {
            "colorbar": {
             "outlinewidth": 0,
             "ticks": ""
            },
            "colorscale": [
             [
              0,
              "#0d0887"
             ],
             [
              0.1111111111111111,
              "#46039f"
             ],
             [
              0.2222222222222222,
              "#7201a8"
             ],
             [
              0.3333333333333333,
              "#9c179e"
             ],
             [
              0.4444444444444444,
              "#bd3786"
             ],
             [
              0.5555555555555556,
              "#d8576b"
             ],
             [
              0.6666666666666666,
              "#ed7953"
             ],
             [
              0.7777777777777778,
              "#fb9f3a"
             ],
             [
              0.8888888888888888,
              "#fdca26"
             ],
             [
              1,
              "#f0f921"
             ]
            ],
            "type": "contour"
           }
          ],
          "contourcarpet": [
           {
            "colorbar": {
             "outlinewidth": 0,
             "ticks": ""
            },
            "type": "contourcarpet"
           }
          ],
          "heatmap": [
           {
            "colorbar": {
             "outlinewidth": 0,
             "ticks": ""
            },
            "colorscale": [
             [
              0,
              "#0d0887"
             ],
             [
              0.1111111111111111,
              "#46039f"
             ],
             [
              0.2222222222222222,
              "#7201a8"
             ],
             [
              0.3333333333333333,
              "#9c179e"
             ],
             [
              0.4444444444444444,
              "#bd3786"
             ],
             [
              0.5555555555555556,
              "#d8576b"
             ],
             [
              0.6666666666666666,
              "#ed7953"
             ],
             [
              0.7777777777777778,
              "#fb9f3a"
             ],
             [
              0.8888888888888888,
              "#fdca26"
             ],
             [
              1,
              "#f0f921"
             ]
            ],
            "type": "heatmap"
           }
          ],
          "heatmapgl": [
           {
            "colorbar": {
             "outlinewidth": 0,
             "ticks": ""
            },
            "colorscale": [
             [
              0,
              "#0d0887"
             ],
             [
              0.1111111111111111,
              "#46039f"
             ],
             [
              0.2222222222222222,
              "#7201a8"
             ],
             [
              0.3333333333333333,
              "#9c179e"
             ],
             [
              0.4444444444444444,
              "#bd3786"
             ],
             [
              0.5555555555555556,
              "#d8576b"
             ],
             [
              0.6666666666666666,
              "#ed7953"
             ],
             [
              0.7777777777777778,
              "#fb9f3a"
             ],
             [
              0.8888888888888888,
              "#fdca26"
             ],
             [
              1,
              "#f0f921"
             ]
            ],
            "type": "heatmapgl"
           }
          ],
          "histogram": [
           {
            "marker": {
             "pattern": {
              "fillmode": "overlay",
              "size": 10,
              "solidity": 0.2
             }
            },
            "type": "histogram"
           }
          ],
          "histogram2d": [
           {
            "colorbar": {
             "outlinewidth": 0,
             "ticks": ""
            },
            "colorscale": [
             [
              0,
              "#0d0887"
             ],
             [
              0.1111111111111111,
              "#46039f"
             ],
             [
              0.2222222222222222,
              "#7201a8"
             ],
             [
              0.3333333333333333,
              "#9c179e"
             ],
             [
              0.4444444444444444,
              "#bd3786"
             ],
             [
              0.5555555555555556,
              "#d8576b"
             ],
             [
              0.6666666666666666,
              "#ed7953"
             ],
             [
              0.7777777777777778,
              "#fb9f3a"
             ],
             [
              0.8888888888888888,
              "#fdca26"
             ],
             [
              1,
              "#f0f921"
             ]
            ],
            "type": "histogram2d"
           }
          ],
          "histogram2dcontour": [
           {
            "colorbar": {
             "outlinewidth": 0,
             "ticks": ""
            },
            "colorscale": [
             [
              0,
              "#0d0887"
             ],
             [
              0.1111111111111111,
              "#46039f"
             ],
             [
              0.2222222222222222,
              "#7201a8"
             ],
             [
              0.3333333333333333,
              "#9c179e"
             ],
             [
              0.4444444444444444,
              "#bd3786"
             ],
             [
              0.5555555555555556,
              "#d8576b"
             ],
             [
              0.6666666666666666,
              "#ed7953"
             ],
             [
              0.7777777777777778,
              "#fb9f3a"
             ],
             [
              0.8888888888888888,
              "#fdca26"
             ],
             [
              1,
              "#f0f921"
             ]
            ],
            "type": "histogram2dcontour"
           }
          ],
          "mesh3d": [
           {
            "colorbar": {
             "outlinewidth": 0,
             "ticks": ""
            },
            "type": "mesh3d"
           }
          ],
          "parcoords": [
           {
            "line": {
             "colorbar": {
              "outlinewidth": 0,
              "ticks": ""
             }
            },
            "type": "parcoords"
           }
          ],
          "pie": [
           {
            "automargin": true,
            "type": "pie"
           }
          ],
          "scatter": [
           {
            "fillpattern": {
             "fillmode": "overlay",
             "size": 10,
             "solidity": 0.2
            },
            "type": "scatter"
           }
          ],
          "scatter3d": [
           {
            "line": {
             "colorbar": {
              "outlinewidth": 0,
              "ticks": ""
             }
            },
            "marker": {
             "colorbar": {
              "outlinewidth": 0,
              "ticks": ""
             }
            },
            "type": "scatter3d"
           }
          ],
          "scattercarpet": [
           {
            "marker": {
             "colorbar": {
              "outlinewidth": 0,
              "ticks": ""
             }
            },
            "type": "scattercarpet"
           }
          ],
          "scattergeo": [
           {
            "marker": {
             "colorbar": {
              "outlinewidth": 0,
              "ticks": ""
             }
            },
            "type": "scattergeo"
           }
          ],
          "scattergl": [
           {
            "marker": {
             "colorbar": {
              "outlinewidth": 0,
              "ticks": ""
             }
            },
            "type": "scattergl"
           }
          ],
          "scattermapbox": [
           {
            "marker": {
             "colorbar": {
              "outlinewidth": 0,
              "ticks": ""
             }
            },
            "type": "scattermapbox"
           }
          ],
          "scatterpolar": [
           {
            "marker": {
             "colorbar": {
              "outlinewidth": 0,
              "ticks": ""
             }
            },
            "type": "scatterpolar"
           }
          ],
          "scatterpolargl": [
           {
            "marker": {
             "colorbar": {
              "outlinewidth": 0,
              "ticks": ""
             }
            },
            "type": "scatterpolargl"
           }
          ],
          "scatterternary": [
           {
            "marker": {
             "colorbar": {
              "outlinewidth": 0,
              "ticks": ""
             }
            },
            "type": "scatterternary"
           }
          ],
          "surface": [
           {
            "colorbar": {
             "outlinewidth": 0,
             "ticks": ""
            },
            "colorscale": [
             [
              0,
              "#0d0887"
             ],
             [
              0.1111111111111111,
              "#46039f"
             ],
             [
              0.2222222222222222,
              "#7201a8"
             ],
             [
              0.3333333333333333,
              "#9c179e"
             ],
             [
              0.4444444444444444,
              "#bd3786"
             ],
             [
              0.5555555555555556,
              "#d8576b"
             ],
             [
              0.6666666666666666,
              "#ed7953"
             ],
             [
              0.7777777777777778,
              "#fb9f3a"
             ],
             [
              0.8888888888888888,
              "#fdca26"
             ],
             [
              1,
              "#f0f921"
             ]
            ],
            "type": "surface"
           }
          ],
          "table": [
           {
            "cells": {
             "fill": {
              "color": "#EBF0F8"
             },
             "line": {
              "color": "white"
             }
            },
            "header": {
             "fill": {
              "color": "#C8D4E3"
             },
             "line": {
              "color": "white"
             }
            },
            "type": "table"
           }
          ]
         },
         "layout": {
          "annotationdefaults": {
           "arrowcolor": "#2a3f5f",
           "arrowhead": 0,
           "arrowwidth": 1
          },
          "autotypenumbers": "strict",
          "coloraxis": {
           "colorbar": {
            "outlinewidth": 0,
            "ticks": ""
           }
          },
          "colorscale": {
           "diverging": [
            [
             0,
             "#8e0152"
            ],
            [
             0.1,
             "#c51b7d"
            ],
            [
             0.2,
             "#de77ae"
            ],
            [
             0.3,
             "#f1b6da"
            ],
            [
             0.4,
             "#fde0ef"
            ],
            [
             0.5,
             "#f7f7f7"
            ],
            [
             0.6,
             "#e6f5d0"
            ],
            [
             0.7,
             "#b8e186"
            ],
            [
             0.8,
             "#7fbc41"
            ],
            [
             0.9,
             "#4d9221"
            ],
            [
             1,
             "#276419"
            ]
           ],
           "sequential": [
            [
             0,
             "#0d0887"
            ],
            [
             0.1111111111111111,
             "#46039f"
            ],
            [
             0.2222222222222222,
             "#7201a8"
            ],
            [
             0.3333333333333333,
             "#9c179e"
            ],
            [
             0.4444444444444444,
             "#bd3786"
            ],
            [
             0.5555555555555556,
             "#d8576b"
            ],
            [
             0.6666666666666666,
             "#ed7953"
            ],
            [
             0.7777777777777778,
             "#fb9f3a"
            ],
            [
             0.8888888888888888,
             "#fdca26"
            ],
            [
             1,
             "#f0f921"
            ]
           ],
           "sequentialminus": [
            [
             0,
             "#0d0887"
            ],
            [
             0.1111111111111111,
             "#46039f"
            ],
            [
             0.2222222222222222,
             "#7201a8"
            ],
            [
             0.3333333333333333,
             "#9c179e"
            ],
            [
             0.4444444444444444,
             "#bd3786"
            ],
            [
             0.5555555555555556,
             "#d8576b"
            ],
            [
             0.6666666666666666,
             "#ed7953"
            ],
            [
             0.7777777777777778,
             "#fb9f3a"
            ],
            [
             0.8888888888888888,
             "#fdca26"
            ],
            [
             1,
             "#f0f921"
            ]
           ]
          },
          "colorway": [
           "#636efa",
           "#EF553B",
           "#00cc96",
           "#ab63fa",
           "#FFA15A",
           "#19d3f3",
           "#FF6692",
           "#B6E880",
           "#FF97FF",
           "#FECB52"
          ],
          "font": {
           "color": "#2a3f5f"
          },
          "geo": {
           "bgcolor": "white",
           "lakecolor": "white",
           "landcolor": "#E5ECF6",
           "showlakes": true,
           "showland": true,
           "subunitcolor": "white"
          },
          "hoverlabel": {
           "align": "left"
          },
          "hovermode": "closest",
          "mapbox": {
           "style": "light"
          },
          "paper_bgcolor": "white",
          "plot_bgcolor": "#E5ECF6",
          "polar": {
           "angularaxis": {
            "gridcolor": "white",
            "linecolor": "white",
            "ticks": ""
           },
           "bgcolor": "#E5ECF6",
           "radialaxis": {
            "gridcolor": "white",
            "linecolor": "white",
            "ticks": ""
           }
          },
          "scene": {
           "xaxis": {
            "backgroundcolor": "#E5ECF6",
            "gridcolor": "white",
            "gridwidth": 2,
            "linecolor": "white",
            "showbackground": true,
            "ticks": "",
            "zerolinecolor": "white"
           },
           "yaxis": {
            "backgroundcolor": "#E5ECF6",
            "gridcolor": "white",
            "gridwidth": 2,
            "linecolor": "white",
            "showbackground": true,
            "ticks": "",
            "zerolinecolor": "white"
           },
           "zaxis": {
            "backgroundcolor": "#E5ECF6",
            "gridcolor": "white",
            "gridwidth": 2,
            "linecolor": "white",
            "showbackground": true,
            "ticks": "",
            "zerolinecolor": "white"
           }
          },
          "shapedefaults": {
           "line": {
            "color": "#2a3f5f"
           }
          },
          "ternary": {
           "aaxis": {
            "gridcolor": "white",
            "linecolor": "white",
            "ticks": ""
           },
           "baxis": {
            "gridcolor": "white",
            "linecolor": "white",
            "ticks": ""
           },
           "bgcolor": "#E5ECF6",
           "caxis": {
            "gridcolor": "white",
            "linecolor": "white",
            "ticks": ""
           }
          },
          "title": {
           "x": 0.05
          },
          "xaxis": {
           "automargin": true,
           "gridcolor": "white",
           "linecolor": "white",
           "ticks": "",
           "title": {
            "standoff": 15
           },
           "zerolinecolor": "white",
           "zerolinewidth": 2
          },
          "yaxis": {
           "automargin": true,
           "gridcolor": "white",
           "linecolor": "white",
           "ticks": "",
           "title": {
            "standoff": 15
           },
           "zerolinecolor": "white",
           "zerolinewidth": 2
          }
         }
        }
       }
      },
      "text/html": [
       "<div>                            <div id=\"c7195456-c004-48d5-9266-5ab78fde9cfa\" class=\"plotly-graph-div\" style=\"height:300px; width:100%;\"></div>            <script type=\"text/javascript\">                require([\"plotly\"], function(Plotly) {                    window.PLOTLYENV=window.PLOTLYENV || {};                                    if (document.getElementById(\"c7195456-c004-48d5-9266-5ab78fde9cfa\")) {                    Plotly.newPlot(                        \"c7195456-c004-48d5-9266-5ab78fde9cfa\",                        [{\"hovertemplate\":\"\\u003cb\\u003e%{hovertext}\\u003c\\u002fb\\u003e\\u003cbr\\u003e\\u003cbr\\u003elat=%{lat}\\u003cbr\\u003elon=%{lon}\\u003cextra\\u003e\\u003c\\u002fextra\\u003e\",\"hovertext\":[\"\\u0412\\u0422\\u0411\",null,\"\\u0424\\u0435\\u0441\\u0442\\u0438\\u0432\\u0430\\u043b\\u044c\\u043d\\u043e\\u0435\",null,\"\\u0421\\u0442\\u043e\\u043b\\u043e\\u0432\\u0430\\u044f \\u211657\",\"\\u0411\\u043e\\u043b\\u044c\\u0448\\u043e\\u0439 \\u0442\\u0435\\u0430\\u0442\\u0440. \\u041a\\u0430\\u043c\\u0435\\u0440\\u043d\\u0430\\u044f \\u0441\\u0446\\u0435\\u043d\\u0430 \\u0438\\u043c. \\u0411. \\u0410. \\u041f\\u043e\\u043a\\u0440\\u043e\\u0432\\u0441\\u043a\\u043e\\u0433\\u043e\",\"\\u0421\\u0442\\u0430\\u0440\\u0430\\u044f \\u0411\\u0430\\u0448\\u043d\\u044f\",null,null,null,null,\"\\u0412\\u043a\\u0443\\u0441\\u043d\\u043e \\u2014 \\u0438 \\u0442\\u043e\\u0447\\u043a\\u0430\",null,\"\\u041a\\u0440\\u0435\\u043c\\u043b\\u0451\\u0432\\u0441\\u043a\\u0438\\u0435 \\u043a\\u0443\\u0440\\u0430\\u043d\\u0442\\u044b\",\"Casa Agave\",\"Oldschool\",\"\\u041c\\u043e\\u0441\\u043a\\u0432\\u0430 109012\",\"\\u041f\\u0440\\u0438\\u0434\\u0435\\u043b \\u0410\\u043b\\u0435\\u043a\\u0441\\u0430\\u043d\\u0434\\u0440\\u0430 \\u0421\\u0432\\u0438\\u0440\\u0441\\u043a\\u043e\\u0433\\u043e\",\"\\u0426\\u0435\\u0440\\u043a\\u043e\\u0432\\u044c \\u0412\\u0430\\u0440\\u043b\\u0430\\u0430\\u043c\\u0430 \\u0425\\u0443\\u0442\\u044b\\u043d\\u0441\\u043a\\u043e\\u0433\\u043e\",\"\\u041f\\u0440\\u0438\\u0434\\u0435\\u043b \\u0412\\u0430\\u0441\\u0438\\u043b\\u0438\\u044f \\u0411\\u043b\\u0430\\u0436\\u0435\\u043d\\u043d\\u043e\\u0433\\u043e\",\"\\u041f\\u0440\\u0438\\u0434\\u0435\\u043b \\u0413\\u0440\\u0438\\u0433\\u043e\\u0440\\u0438\\u044f \\u0410\\u0440\\u043c\\u044f\\u043d\\u0441\\u043a\\u043e\\u0433\\u043e\",\"\\u041f\\u0440\\u0438\\u0434\\u0435\\u043b \\u041a\\u0438\\u043f\\u0440\\u0438\\u0430\\u043d\\u0430 \\u0438 \\u0418\\u0443\\u0441\\u0442\\u0438\\u043d\\u044b\",\"\\u041f\\u0440\\u0438\\u0434\\u0435\\u043b \\u041d\\u0438\\u043a\\u043e\\u043b\\u044b \\u0412\\u0435\\u043b\\u0438\\u043a\\u043e\\u0440\\u0435\\u0446\\u043a\\u043e\\u0433\\u043e\",\"\\u041f\\u0440\\u0438\\u0434\\u0435\\u043b \\u0421\\u0432\\u044f\\u0442\\u043e\\u0439 \\u0422\\u0440\\u043e\\u0438\\u0446\\u044b\",\"\\u041f\\u0440\\u0438\\u0434\\u0435\\u043b \\u0422\\u0440\\u0451\\u0445 \\u041f\\u0430\\u0442\\u0440\\u0438\\u0430\\u0440\\u0445\\u043e\\u0432\",null,null,\"Novikov\",null,\"\\u041a\\u043e\\u0444\\u0435\\u043c\\u0430\\u043d\\u0438\\u044f\",\"La Bottega Siciliana\",null,\"Peshi\",null,null,\"\\u0412\\u044b\\u0441\\u043e\\u0442\\u0430 5642\",\"\\u041d\\u0430\\u0442\\u0430\\u0445\\u0442\\u0430\\u0440\\u0438\",\"\\u0420\\u0438\\u0433\\u043b\\u0430\",\"Ciderella\",\"\\u041a\\u043e\\u0444\\u0435 \\u0413\\u0443\\u0440\\u043c\\u044d\",\"Il Pittore\",\"\\u0425\\u0438\\u043d\\u043a\\u0430\\u043b\\u044c\\u043d\\u0430\\u044f\",\"\\u0425\\u043b\\u0435\\u0431 \\u041d\\u0430\\u0441\\u0443\\u0449\\u043d\\u044b\\u0439\",\"Coba\",\"\\u0420\\u0430\\u0437\\u0432\\u0435\\u0434\\u043a\\u0430\",\"\\u0411\\u0435\\u043b\\u0443\\u0433\\u0430\",\"Dr. \\u0416\\u0438\\u0432\\u0430\\u0433\\u043e\",\"\\u0420\\u0443\\u0441\\u0441\\u043a\\u043e\\u0435 \\u0433\\u0435\\u043e\\u0433\\u0440\\u0430\\u0444\\u0438\\u0447\\u0435\\u0441\\u043a\\u043e\\u0435 \\u043e\\u0431\\u0449\\u0435\\u0441\\u0442\\u0432\\u043e\",\"Bosco Caf\\u00e9\",\"\\u041c\\u043e\\u0441\\u043a\\u0432\\u0430\",\"\\u041f\\u0440\\u0438\\u0434\\u0435\\u043b \\u0412\\u0445\\u043e\\u0434\\u0430 \\u0413\\u043e\\u0441\\u043f\\u043e\\u0434\\u043d\\u044f \\u0432 \\u0418\\u0435\\u0440\\u0443\\u0441\\u0430\\u043b\\u0438\\u043c\",null,null,\"\\u0428\\u043e\\u043a\\u043e\\u043b\\u0430\\u0434\\u043d\\u0438\\u0446\\u0430\",\"Mexican Club\",\"Quadrum\",\"\\u042e\\u043b\\u0438\\u043d\\u0430 \\u043a\\u0443\\u0445\\u043d\\u044f\",\"\\u041c\\u043e\\u0441\\u043a\\u0432\\u0430\",null,null,null,null,null,null,null,null,null,null,\"\\u0412\\u0430\\u0440\\u0435\\u043d\\u0438\\u0447\\u043d\\u0430\\u044f \\u21161\",\"\\u041a\\u043e\\u043e\\u043f\\u0432\\u043d\\u0435\\u0448\\u0442\\u043e\\u0440\\u0433\",\"A.v.e\",\"\\u0422\\u0435\\u0440\\u0435\\u043c\\u043e\\u043a\",\"Cofix\",null,null,null,null,null,null,null,null,null,null,null,null,null,null,null,null,null,null,null,null,null,null,null,null,null,null,null,null,null,null,null,null,null,null,null,null,null,null,null,null,null,null,null,null,null,null,null,null,\"Movenpick\",null,null,\"\\u041a\\u0430\\u0440\\u043b\\u043e\",null,null,null,null,\"Royal\",null,null,null,\"\\u0428\\u043e\\u043a\\u043e\\u043b\\u0430\\u0434\\u043d\\u0438\\u0446\\u0430\",\"Cofix\",\"\\u0412\\u043e\\u0441\\u0445\\u043e\\u0434\",\"\\u0417\\u0430\\u0440\\u044f\\u0434\\u044c\\u0435 - \\u0412\\u044a\\u0435\\u0437\\u0434\",null,\"Solo\",\"\\u041a\\u043e\\u043d\\u0441\\u0442\\u0438\\u0442\\u0443\\u0446\\u0438\\u043e\\u043d\\u043d\\u044b\\u0439 \\u0441\\u0443\\u0434 \\u0420\\u043e\\u0441\\u0441\\u0438\\u0439\\u0441\\u043a\\u043e\\u0439 \\u0424\\u0435\\u0434\\u0435\\u0440\\u0430\\u0446\\u0438\\u0438 \\u041f\\u0440\\u0435\\u0434\\u0441\\u0442\\u0430\\u0432\\u0438\\u0442\\u0435\\u043b\\u044c\\u0441\\u0442\\u0432\\u043e \\u0432 \\u0433\\u043e\\u0440\\u043e\\u0434\\u0435 \\u041c\\u043e\\u0441\\u043a\\u0432\\u0435\",null,\"BB&Burgers\",\"\\u041c\\u0435\\u0434\\u0438\\u0446\\u0438\\u043d\\u0441\\u043a\\u0438\\u0439 \\u0446\\u0435\\u043d\\u0442\\u0440 \\u0424\\u0413\\u0411\\u0423 \\u00ab\\u041c\\u0424\\u041a \\u041c\\u0438\\u043d\\u0444\\u0438\\u043d\\u0430 \\u0420\\u043e\\u0441\\u0441\\u0438\\u0438\\u00bb\",\"\\u041c\\u0430\\u0433\\u0430\\u0434\\u0430\\u043d\",\"\\u041e\\u0442\\u0434\\u0435\\u043b \\u043f\\u043e\\u043b\\u0438\\u0446\\u0438\\u0438 \\u041a\\u0438\\u0442\\u0430\\u0439-\\u0433\\u043e\\u0440\\u043e\\u0434\",\"\\u041a\\u043e\\u043b\\u044c\\u0447\\u0443\\u0433\\u0430\",\"Il pizzaiolo\",null,\"\\u0413\\u0423\\u041c \\u041a\\u0438\\u043d\\u043e\\u0437\\u0430\\u043b\",\"\\u0427\\u0443\\u0440\\u0440\\u043e\\u0441\",\"\\u0417\\u0430\\u043c\\u0435\\u0447\\u0430\\u0442\\u0435\\u043b\\u044c\\u043d\\u044b\\u0435 \\u043b\\u044e\\u0434\\u0438\",null,\"\\u0412\\u043e\\u043a\\u0440\\u0443\\u0433 \\u0441\\u0432\\u0435\\u0442\\u0430\",\"\\u0412\\u0422\\u0411\",\"\\u0412\\u0430\\u0440\\u0435\\u043d\\u0438\\u0447\\u043d\\u0430\\u044f \\u21161\",null,\"36,6\",null,null,\"\\u0417\\u0430\\u0440\\u044f\\u0434\\u044c\\u0435 - \\u0412\\u044a\\u0435\\u0437\\u0434\",\"\\u0422\\u0440\\u0430\\u043f\\u043f\\u0438\\u0441\\u0442\",\"KFC\",\"\\u041a\\u0440\\u0430\\u0441\\u043d\\u0430\\u044f \\u043f\\u043b\\u043e\\u0449\\u0430\\u0434\\u044c, \\u0434\\u043e\\u043c 1\",\"\\u0414\\u0443\\u0431\\u043b\\u0438\\u043d\\u0435\\u0446\",null,null,null,\"Ave-Luxury\",\"\\u041f\\u043e\\u043b\\u0438\\u043a\\u043b\\u0438\\u043d\\u0438\\u043a\\u0430 \\u0432 \\u0421\\u0442\\u0430\\u0440\\u043e\\u043f\\u0430\\u043d\\u0441\\u043a\\u043e\\u043c \\u043f\\u0435\\u0440\\u0435\\u0443\\u043b\\u043a\\u0435 \\u0414\\u0435\\u0442\\u0441\\u043a\\u043e\\u0433\\u043e \\u043c\\u0435\\u0434\\u0438\\u0446\\u0438\\u043d\\u0441\\u043a\\u043e\\u0433\\u043e \\u0446\\u0435\\u043d\\u0442\\u0440\\u0430 \\u0423\\u043f\\u0440\\u0430\\u0432\\u043b\\u0435\\u043d\\u0438\\u044f \\u0434\\u0435\\u043b\\u0430\\u043c\\u0438 \\u041f\\u0440\\u0435\\u0437\\u0438\\u0434\\u0435\\u043d\\u0442\\u0430 \\u0420\\u0424\",null,\"\\u0421\\u043e\\u0440\\u043e\\u043a\\u0430\",null,null,null,null,\"Brasserie Lambic\",null,null,null,null,\"\\u0412\\u043e\\u0441\\u043a\\u0440\\u0435\\u0441\\u043d\\u0430\\u044f \\u0448\\u043a\\u043e\\u043b\\u0430\",\"\\u0422\\u0440\\u0430\\u043f\\u0435\\u0437\\u043d\\u0430\\u044f\",\"\\u041a\\u043e\\u043d\\u0442\\u0440\\u0440\\u0430\\u0437\\u0432\\u0435\\u0434\\u043a\\u0430\",null,null,\"\\u0414\\u043e\\u0431\\u0440\\u0430\\u044f \\u0430\\u043f\\u0442\\u0435\\u043a\\u0430\",null,null,null,null,\"\\u0411\\u0430\\u0440\\u043a\\u0430\",null,\"Lobby\",\"Cinnabon\",\"Cinnabon\",\"Prosvet\",\"Barbosco\",\"\\u0411\\u0443\\u0440\\u0433\\u0435\\u0440 \\u041a\\u0438\\u043d\\u0433\",null,\"\\u0420\\u0435\\u0431\\u0435\\u0440\\u043d\\u0430\\u044f \\u2116 1\",\"\\u0414\\u043e\\u043a\\u0442\\u043e\\u0440 \\u0421\\u0442\\u043e\\u043b\\u0435\\u0442\\u043e\\u0432\",\"Tehnikum\",null,\"\\u041f\\u0443\\u0448\\u043a\\u0438\\u043d\\u044a\",null,\"\\u0414\\u0432\\u043e\\u0439\\u043d\\u0430\\u044f \\u0436\\u0438\\u0437\\u043d\\u044c \\u0412\\u0435\\u0440\\u043e\\u043d\\u0438\\u043a\\u0438\",null,null,null,null,null,null,\"\\u041a\\u0440\\u0435\\u043c\\u043b\\u0435\\u0432\\u0441\\u043a\\u0438\\u0439\",null,null,null,\"\\u041c\\u0435\\u0441\\u0442\\u043e \\u043f\\u0440\\u0438\\u0442\\u044f\\u0436\\u0435\\u043d\\u0438\\u044f\",null,\"Farsh\",\"\\u0422\\u043e\\u0442\\u0442\\u043e\\u0440\\u0438\",\"\\u041a\\u0430\\u043f\\u043f\\u043e \\u0425\\u0438\\u0440\\u043e\\u043a\\u0438 \\u0410\\u0440\\u0430\\u043a\\u0430\\u0432\\u0430\",null,null,null,null,\"Surf Coffee\",null,\"\\u041a\\u043e\\u0444\\u0435\\u0438\\u043d\",\"KFC\",\"Varvarka III\",null,\"\\u0422\\u0440\\u0430\\u043a\\u0442\\u0438\\u0440 \\u043d\\u0430 \\u041d\\u0438\\u043a\\u043e\\u043b\\u044c\\u0441\\u043a\\u043e\\u0439\",\"\\u0411\\u0430\\u0448\\u043d\\u044f\",null,\"36,6\",\"\\u0421\\u0435\\u043b\\u0451\\u0434\\u043e\\u0447\\u043d\\u0430\\u044f\",\"\\u0411\\u0430\\u0440\\u0432\\u0438\\u0445\\u0430 Lounge \\u041a\\u0440\\u0430\\u0441\\u043d\\u0430\\u044f \\u043f\\u043b\\u043e\\u0449\\u0430\\u0434\\u044c\",\"\\u0424\\u0440\\u0430\\u043d\\u043a\\u043b\\u0438\\u043d\\u0441 \\u0411\\u0443\\u0440\\u0433\\u0435\\u0440\",null,\"Cofix\",\"Cofix\",\"Boft\",null,null,null,null,null,null,\"Boft\",\"Boft\",null,null,null,null,\"\\u0425\\u0430\\u0447\\u0430\\u043f\\u0443\\u0440\\u0438\",null,\"Beyoglu doner\",\"\\u041c\\u0435\\u0436\\u0434\\u0443\\u043d\\u0430\\u0440\\u043e\\u0434\\u043d\\u044b\\u0439 \\u043a\\u043e\\u043c\\u043c\\u0435\\u0440\\u0447\\u0435\\u0441\\u043a\\u0438\\u0439 \\u0430\\u0440\\u0431\\u0438\\u0442\\u0440\\u0430\\u0436\\u043d\\u044b\\u0439 \\u0441\\u0443\\u0434\",\"\\u0422\\u0440\\u0430\\u043f\\u0435\\u0437\\u043d\\u0430\\u044f\",\"Boft\",null,null,null,null,null,\"\\u0421\\u0433\\u043e\\u0440\\u044f\\u0447\\u0430\",\"\\u041f\\u0430\\u043d \\u041a\\u0440\\u0443\\u0430\\u0441\\u0441\\u0430\\u043d\",\"\\u0421\\u0414\\u042d\\u041a\",\"\\u00d6z kebab\",\"Varvarka 3\"],\"lat\":[55.7571401,55.754858,55.7545312,55.754018,55.7542097,55.7580473,55.756857,55.75479,55.7547109,55.7568616,55.756964,55.7579448,55.7533526,55.752513,55.7560747,55.756476,55.7561901,55.752461,55.7523911,55.7526127,55.7525095,55.7525943,55.7523737,55.7525436,55.7525796,55.7546066,55.754334,55.7570988,55.7573599,55.7547747,55.757616,55.757267,55.7573348,55.7579755,55.7563819,55.7559625,55.7570554,55.7569419,55.7569529,55.756879,55.7578877,55.7558348,55.7573552,55.7580884,55.7579953,55.7566151,55.7568327,55.7578437,55.7547905,55.7570284,55.7524227,55.7562592,55.7563186,55.7557646,55.757242,55.7567889,55.7572632,55.7570001,55.7533386,55.7533588,55.7533648,55.7533713,55.753389,55.7533949,55.7534015,55.7534204,55.7534265,55.753433,55.7566287,55.7568604,55.7574978,55.7571927,55.7568131,55.7576135,55.7579628,55.7579957,55.7579442,55.7580344,55.7580357,55.7580515,55.758055,55.7580733,55.7564805,55.7565035,55.7565184,55.7565252,55.7565341,55.7565447,55.7565654,55.7565688,55.7565764,55.756582,55.7566088,55.7566114,55.7566265,55.7566392,55.7566422,55.756653,55.7566539,55.7566667,55.7566677,55.7566831,55.7566863,55.756699,55.7567058,55.7567107,55.7567216,55.7567258,55.756732,55.7567407,55.7567488,55.7567582,55.7567671,55.7567741,55.7567792,55.7567963,55.7568477,55.7568527,55.7568592,55.7568646,55.756865,55.7558969,55.7555276,55.755539,55.7568053,55.7552606,55.7541198,55.7512897,55.7553879,55.7543287,55.7543581,55.7527256,55.7557797,55.7566505,55.7554675,55.7504139,55.7507434,55.7508237,55.7561463,55.756636,55.7501617,55.7572998,55.7554501,55.7546245,55.7548215,55.752811,55.7567575,55.7567376,55.7550914,55.757236,55.7558515,55.7515235,55.7577988,55.7552177,55.7573813,55.7568925,55.7555988,55.7501554,55.7501612,55.7506765,55.7567303,55.755734,55.7553617,55.7576167,55.7557803,55.7558044,55.7558305,55.7580255,55.7565557,55.7576737,55.7577405,55.7573511,55.7572728,55.751521,55.7514475,55.7563081,55.7561655,55.7561841,55.7569876,55.7563353,55.7559308,55.7558486,55.7580454,55.7572002,55.75721,55.7562108,55.7579291,55.7576209,55.7578984,55.7564359,55.7542434,55.7574137,55.7526441,55.7561893,55.7579941,55.7546358,55.7540226,55.755561,55.7543188,55.7572179,55.7546631,55.757949,55.7539887,55.7546584,55.7558965,55.7579249,55.7525214,55.750279,55.750123,55.7500468,55.7501218,55.75002,55.7517179,55.7502716,55.7502242,55.7564156,55.7568301,55.7553057,55.755952,55.7572952,55.7572817,55.7497101,55.7497725,55.7498187,55.755778,55.7573283,55.7569121,55.7570421,55.7553637,55.7530026,55.7523936,55.7575767,55.7574673,55.7576183,55.7578898,55.7546449,55.7550856,55.7559612,55.7523994,55.7555188,55.7558418,55.7560516,55.7541566,55.7541796,55.7541664,55.7541234,55.7540713,55.7540502,55.7516169,55.7558463,55.7554773,55.7509614,55.7509081,55.7545337,55.75715,55.7574201,55.75671,55.7549181,55.7525567,55.7516803,55.7574692,55.7574466,55.7563753,55.7554487,55.7527007,55.7579343,55.7559293,55.7561886,55.7570906,55.7537414],\"legendgroup\":\"\",\"lon\":[37.6139807,37.617345,37.6226597,37.6228046,37.6233607,37.6235011,37.6205031,37.617461,37.6214272,37.6182981,37.6269639,37.6239958,37.6140243,37.621358,37.6275041,37.6271334,37.6207027,37.6232415,37.6229993,37.6232411,37.62289,37.6229716,37.6231678,37.6232686,37.6231319,37.6233923,37.6239086,37.6135141,37.6173907,37.6215849,37.6184195,37.6164427,37.6169663,37.6245333,37.6156302,37.6276128,37.6283613,37.6224057,37.6219421,37.621849,37.6248832,37.6237604,37.6230002,37.6272958,37.6274118,37.6140374,37.6143686,37.6267745,37.6201907,37.6174063,37.6228549,37.6291853,37.6291892,37.6278851,37.6167996,37.6168419,37.6171923,37.6175175,37.6141067,37.6139674,37.6139367,37.613903,37.6138117,37.613781,37.6137473,37.6136499,37.6136184,37.6135847,37.6214967,37.6269709,37.6168143,37.6227562,37.6212521,37.6193703,37.6194043,37.6193851,37.6194151,37.6193626,37.6196016,37.6195923,37.6193506,37.6201596,37.6176057,37.6175702,37.6176892,37.617813,37.6177157,37.6178934,37.6178522,37.6176524,37.6178307,37.6176725,37.6176617,37.6178361,37.6179725,37.6177083,37.6178857,37.6177965,37.6179199,37.618106,37.6179974,37.6179668,37.6180694,37.6178327,37.6180366,37.6178079,37.6179166,37.6181241,37.6179336,37.6182089,37.6180668,37.6181861,37.6179283,37.6180906,37.6182555,37.618049,37.6181167,37.6182025,37.6181559,37.6180835,37.6181797,37.6145071,37.6149497,37.6149841,37.622624,37.6209163,37.622252,37.6247583,37.6233132,37.6261085,37.6244282,37.6285135,37.6280112,37.6192744,37.6140437,37.6270957,37.6262315,37.6262539,37.6274403,37.6282777,37.6269413,37.6229147,37.6268729,37.6247312,37.6240607,37.6272987,37.6216802,37.6213449,37.6215888,37.6228204,37.6281685,37.6167818,37.6242387,37.6211672,37.6212484,37.614581,37.6142277,37.6290421,37.6287592,37.6262513,37.6269019,37.615382,37.6182191,37.6243597,37.624292,37.6242518,37.6242075,37.6239473,37.6259261,37.6230488,37.6230642,37.6226125,37.6225,37.6254299,37.6253877,37.627282,37.6207059,37.6207402,37.6276564,37.625045,37.6229636,37.6228188,37.6273531,37.627976,37.6280156,37.6283535,37.6277795,37.6246333,37.6250828,37.6138389,37.6261944,37.6137288,37.6260991,37.6150605,37.6249149,37.6256038,37.6216836,37.6148835,37.624687,37.6209207,37.6225211,37.6238717,37.6234907,37.6212906,37.6146716,37.6263505,37.6268533,37.6248211,37.6248352,37.6249082,37.6248678,37.6248683,37.6165663,37.6248749,37.6248861,37.6174842,37.6212191,37.618159,37.6145294,37.6283482,37.6171365,37.6158224,37.6156149,37.6159556,37.614617,37.618313,37.621053,37.6220902,37.6148174,37.6275086,37.6273685,37.6233083,37.6231554,37.6233636,37.6244563,37.6136373,37.6225653,37.6145884,37.6216258,37.6147655,37.6150821,37.6147252,37.6139762,37.6140614,37.6142398,37.614333,37.6143578,37.6135305,37.6290134,37.6139797,37.6153008,37.6210793,37.6211777,37.613609,37.6207877,37.6153844,37.6216178,37.6251416,37.6275028,37.6293325,37.6196679,37.6195465,37.6175483,37.6201365,37.62613,37.6176729,37.6147172,37.6161972,37.6274452,37.626226],\"marker\":{\"color\":\"fuchsia\"},\"mode\":\"markers\",\"name\":\"\",\"showlegend\":false,\"subplot\":\"map\",\"type\":\"scattermap\"}],                        {\"template\":{\"data\":{\"histogram2dcontour\":[{\"type\":\"histogram2dcontour\",\"colorbar\":{\"outlinewidth\":0,\"ticks\":\"\"},\"colorscale\":[[0.0,\"#0d0887\"],[0.1111111111111111,\"#46039f\"],[0.2222222222222222,\"#7201a8\"],[0.3333333333333333,\"#9c179e\"],[0.4444444444444444,\"#bd3786\"],[0.5555555555555556,\"#d8576b\"],[0.6666666666666666,\"#ed7953\"],[0.7777777777777778,\"#fb9f3a\"],[0.8888888888888888,\"#fdca26\"],[1.0,\"#f0f921\"]]}],\"choropleth\":[{\"type\":\"choropleth\",\"colorbar\":{\"outlinewidth\":0,\"ticks\":\"\"}}],\"histogram2d\":[{\"type\":\"histogram2d\",\"colorbar\":{\"outlinewidth\":0,\"ticks\":\"\"},\"colorscale\":[[0.0,\"#0d0887\"],[0.1111111111111111,\"#46039f\"],[0.2222222222222222,\"#7201a8\"],[0.3333333333333333,\"#9c179e\"],[0.4444444444444444,\"#bd3786\"],[0.5555555555555556,\"#d8576b\"],[0.6666666666666666,\"#ed7953\"],[0.7777777777777778,\"#fb9f3a\"],[0.8888888888888888,\"#fdca26\"],[1.0,\"#f0f921\"]]}],\"heatmap\":[{\"type\":\"heatmap\",\"colorbar\":{\"outlinewidth\":0,\"ticks\":\"\"},\"colorscale\":[[0.0,\"#0d0887\"],[0.1111111111111111,\"#46039f\"],[0.2222222222222222,\"#7201a8\"],[0.3333333333333333,\"#9c179e\"],[0.4444444444444444,\"#bd3786\"],[0.5555555555555556,\"#d8576b\"],[0.6666666666666666,\"#ed7953\"],[0.7777777777777778,\"#fb9f3a\"],[0.8888888888888888,\"#fdca26\"],[1.0,\"#f0f921\"]]}],\"heatmapgl\":[{\"type\":\"heatmapgl\",\"colorbar\":{\"outlinewidth\":0,\"ticks\":\"\"},\"colorscale\":[[0.0,\"#0d0887\"],[0.1111111111111111,\"#46039f\"],[0.2222222222222222,\"#7201a8\"],[0.3333333333333333,\"#9c179e\"],[0.4444444444444444,\"#bd3786\"],[0.5555555555555556,\"#d8576b\"],[0.6666666666666666,\"#ed7953\"],[0.7777777777777778,\"#fb9f3a\"],[0.8888888888888888,\"#fdca26\"],[1.0,\"#f0f921\"]]}],\"contourcarpet\":[{\"type\":\"contourcarpet\",\"colorbar\":{\"outlinewidth\":0,\"ticks\":\"\"}}],\"contour\":[{\"type\":\"contour\",\"colorbar\":{\"outlinewidth\":0,\"ticks\":\"\"},\"colorscale\":[[0.0,\"#0d0887\"],[0.1111111111111111,\"#46039f\"],[0.2222222222222222,\"#7201a8\"],[0.3333333333333333,\"#9c179e\"],[0.4444444444444444,\"#bd3786\"],[0.5555555555555556,\"#d8576b\"],[0.6666666666666666,\"#ed7953\"],[0.7777777777777778,\"#fb9f3a\"],[0.8888888888888888,\"#fdca26\"],[1.0,\"#f0f921\"]]}],\"surface\":[{\"type\":\"surface\",\"colorbar\":{\"outlinewidth\":0,\"ticks\":\"\"},\"colorscale\":[[0.0,\"#0d0887\"],[0.1111111111111111,\"#46039f\"],[0.2222222222222222,\"#7201a8\"],[0.3333333333333333,\"#9c179e\"],[0.4444444444444444,\"#bd3786\"],[0.5555555555555556,\"#d8576b\"],[0.6666666666666666,\"#ed7953\"],[0.7777777777777778,\"#fb9f3a\"],[0.8888888888888888,\"#fdca26\"],[1.0,\"#f0f921\"]]}],\"mesh3d\":[{\"type\":\"mesh3d\",\"colorbar\":{\"outlinewidth\":0,\"ticks\":\"\"}}],\"scatter\":[{\"fillpattern\":{\"fillmode\":\"overlay\",\"size\":10,\"solidity\":0.2},\"type\":\"scatter\"}],\"parcoords\":[{\"type\":\"parcoords\",\"line\":{\"colorbar\":{\"outlinewidth\":0,\"ticks\":\"\"}}}],\"scatterpolargl\":[{\"type\":\"scatterpolargl\",\"marker\":{\"colorbar\":{\"outlinewidth\":0,\"ticks\":\"\"}}}],\"bar\":[{\"error_x\":{\"color\":\"#2a3f5f\"},\"error_y\":{\"color\":\"#2a3f5f\"},\"marker\":{\"line\":{\"color\":\"#E5ECF6\",\"width\":0.5},\"pattern\":{\"fillmode\":\"overlay\",\"size\":10,\"solidity\":0.2}},\"type\":\"bar\"}],\"scattergeo\":[{\"type\":\"scattergeo\",\"marker\":{\"colorbar\":{\"outlinewidth\":0,\"ticks\":\"\"}}}],\"scatterpolar\":[{\"type\":\"scatterpolar\",\"marker\":{\"colorbar\":{\"outlinewidth\":0,\"ticks\":\"\"}}}],\"histogram\":[{\"marker\":{\"pattern\":{\"fillmode\":\"overlay\",\"size\":10,\"solidity\":0.2}},\"type\":\"histogram\"}],\"scattergl\":[{\"type\":\"scattergl\",\"marker\":{\"colorbar\":{\"outlinewidth\":0,\"ticks\":\"\"}}}],\"scatter3d\":[{\"type\":\"scatter3d\",\"line\":{\"colorbar\":{\"outlinewidth\":0,\"ticks\":\"\"}},\"marker\":{\"colorbar\":{\"outlinewidth\":0,\"ticks\":\"\"}}}],\"scattermapbox\":[{\"type\":\"scattermapbox\",\"marker\":{\"colorbar\":{\"outlinewidth\":0,\"ticks\":\"\"}}}],\"scatterternary\":[{\"type\":\"scatterternary\",\"marker\":{\"colorbar\":{\"outlinewidth\":0,\"ticks\":\"\"}}}],\"scattercarpet\":[{\"type\":\"scattercarpet\",\"marker\":{\"colorbar\":{\"outlinewidth\":0,\"ticks\":\"\"}}}],\"carpet\":[{\"aaxis\":{\"endlinecolor\":\"#2a3f5f\",\"gridcolor\":\"white\",\"linecolor\":\"white\",\"minorgridcolor\":\"white\",\"startlinecolor\":\"#2a3f5f\"},\"baxis\":{\"endlinecolor\":\"#2a3f5f\",\"gridcolor\":\"white\",\"linecolor\":\"white\",\"minorgridcolor\":\"white\",\"startlinecolor\":\"#2a3f5f\"},\"type\":\"carpet\"}],\"table\":[{\"cells\":{\"fill\":{\"color\":\"#EBF0F8\"},\"line\":{\"color\":\"white\"}},\"header\":{\"fill\":{\"color\":\"#C8D4E3\"},\"line\":{\"color\":\"white\"}},\"type\":\"table\"}],\"barpolar\":[{\"marker\":{\"line\":{\"color\":\"#E5ECF6\",\"width\":0.5},\"pattern\":{\"fillmode\":\"overlay\",\"size\":10,\"solidity\":0.2}},\"type\":\"barpolar\"}],\"pie\":[{\"automargin\":true,\"type\":\"pie\"}]},\"layout\":{\"autotypenumbers\":\"strict\",\"colorway\":[\"#636efa\",\"#EF553B\",\"#00cc96\",\"#ab63fa\",\"#FFA15A\",\"#19d3f3\",\"#FF6692\",\"#B6E880\",\"#FF97FF\",\"#FECB52\"],\"font\":{\"color\":\"#2a3f5f\"},\"hovermode\":\"closest\",\"hoverlabel\":{\"align\":\"left\"},\"paper_bgcolor\":\"white\",\"plot_bgcolor\":\"#E5ECF6\",\"polar\":{\"bgcolor\":\"#E5ECF6\",\"angularaxis\":{\"gridcolor\":\"white\",\"linecolor\":\"white\",\"ticks\":\"\"},\"radialaxis\":{\"gridcolor\":\"white\",\"linecolor\":\"white\",\"ticks\":\"\"}},\"ternary\":{\"bgcolor\":\"#E5ECF6\",\"aaxis\":{\"gridcolor\":\"white\",\"linecolor\":\"white\",\"ticks\":\"\"},\"baxis\":{\"gridcolor\":\"white\",\"linecolor\":\"white\",\"ticks\":\"\"},\"caxis\":{\"gridcolor\":\"white\",\"linecolor\":\"white\",\"ticks\":\"\"}},\"coloraxis\":{\"colorbar\":{\"outlinewidth\":0,\"ticks\":\"\"}},\"colorscale\":{\"sequential\":[[0.0,\"#0d0887\"],[0.1111111111111111,\"#46039f\"],[0.2222222222222222,\"#7201a8\"],[0.3333333333333333,\"#9c179e\"],[0.4444444444444444,\"#bd3786\"],[0.5555555555555556,\"#d8576b\"],[0.6666666666666666,\"#ed7953\"],[0.7777777777777778,\"#fb9f3a\"],[0.8888888888888888,\"#fdca26\"],[1.0,\"#f0f921\"]],\"sequentialminus\":[[0.0,\"#0d0887\"],[0.1111111111111111,\"#46039f\"],[0.2222222222222222,\"#7201a8\"],[0.3333333333333333,\"#9c179e\"],[0.4444444444444444,\"#bd3786\"],[0.5555555555555556,\"#d8576b\"],[0.6666666666666666,\"#ed7953\"],[0.7777777777777778,\"#fb9f3a\"],[0.8888888888888888,\"#fdca26\"],[1.0,\"#f0f921\"]],\"diverging\":[[0,\"#8e0152\"],[0.1,\"#c51b7d\"],[0.2,\"#de77ae\"],[0.3,\"#f1b6da\"],[0.4,\"#fde0ef\"],[0.5,\"#f7f7f7\"],[0.6,\"#e6f5d0\"],[0.7,\"#b8e186\"],[0.8,\"#7fbc41\"],[0.9,\"#4d9221\"],[1,\"#276419\"]]},\"xaxis\":{\"gridcolor\":\"white\",\"linecolor\":\"white\",\"ticks\":\"\",\"title\":{\"standoff\":15},\"zerolinecolor\":\"white\",\"automargin\":true,\"zerolinewidth\":2},\"yaxis\":{\"gridcolor\":\"white\",\"linecolor\":\"white\",\"ticks\":\"\",\"title\":{\"standoff\":15},\"zerolinecolor\":\"white\",\"automargin\":true,\"zerolinewidth\":2},\"scene\":{\"xaxis\":{\"backgroundcolor\":\"#E5ECF6\",\"gridcolor\":\"white\",\"linecolor\":\"white\",\"showbackground\":true,\"ticks\":\"\",\"zerolinecolor\":\"white\",\"gridwidth\":2},\"yaxis\":{\"backgroundcolor\":\"#E5ECF6\",\"gridcolor\":\"white\",\"linecolor\":\"white\",\"showbackground\":true,\"ticks\":\"\",\"zerolinecolor\":\"white\",\"gridwidth\":2},\"zaxis\":{\"backgroundcolor\":\"#E5ECF6\",\"gridcolor\":\"white\",\"linecolor\":\"white\",\"showbackground\":true,\"ticks\":\"\",\"zerolinecolor\":\"white\",\"gridwidth\":2}},\"shapedefaults\":{\"line\":{\"color\":\"#2a3f5f\"}},\"annotationdefaults\":{\"arrowcolor\":\"#2a3f5f\",\"arrowhead\":0,\"arrowwidth\":1},\"geo\":{\"bgcolor\":\"white\",\"landcolor\":\"#E5ECF6\",\"subunitcolor\":\"white\",\"showland\":true,\"showlakes\":true,\"lakecolor\":\"white\"},\"title\":{\"x\":0.05},\"mapbox\":{\"style\":\"light\"}}},\"map\":{\"domain\":{\"x\":[0.0,1.0],\"y\":[0.0,1.0]},\"center\":{\"lat\":55.75546400296297,\"lon\":37.620843952962964},\"zoom\":3,\"style\":\"open-street-map\"},\"legend\":{\"tracegroupgap\":0},\"margin\":{\"t\":0,\"r\":0,\"l\":0,\"b\":0},\"height\":300,\"mapbox\":{\"center\":{\"lat\":55.75546400296297,\"lon\":37.620843952962964},\"zoom\":3}},                        {\"responsive\": true}                    ).then(function(){\n",
       "                            \n",
       "var gd = document.getElementById('c7195456-c004-48d5-9266-5ab78fde9cfa');\n",
       "var x = new MutationObserver(function (mutations, observer) {{\n",
       "        var display = window.getComputedStyle(gd).display;\n",
       "        if (!display || display === 'none') {{\n",
       "            console.log([gd, 'removed!']);\n",
       "            Plotly.purge(gd);\n",
       "            observer.disconnect();\n",
       "        }}\n",
       "}});\n",
       "\n",
       "// Listen for the removal of the full notebook cells\n",
       "var notebookContainer = gd.closest('#notebook-container');\n",
       "if (notebookContainer) {{\n",
       "    x.observe(notebookContainer, {childList: true});\n",
       "}}\n",
       "\n",
       "// Listen for the clearing of the current output cell\n",
       "var outputEl = gd.closest('.output');\n",
       "if (outputEl) {{\n",
       "    x.observe(outputEl, {childList: true});\n",
       "}}\n",
       "\n",
       "                        })                };                });            </script>        </div>"
      ]
     },
     "metadata": {},
     "output_type": "display_data"
    }
   ],
   "source": [
    "plot_nearby_places(\"Россия, Москва, Красная Площадь\")"
   ]
  },
  {
   "cell_type": "code",
   "execution_count": null,
   "id": "ca3db729-7e32-4f54-a957-fbc35e8c3eba",
   "metadata": {},
   "outputs": [],
   "source": []
  }
 ],
 "metadata": {
  "kernelspec": {
   "display_name": "Python 3 (ipykernel)",
   "language": "python",
   "name": "python3"
  },
  "language_info": {
   "codemirror_mode": {
    "name": "ipython",
    "version": 3
   },
   "file_extension": ".py",
   "mimetype": "text/x-python",
   "name": "python",
   "nbconvert_exporter": "python",
   "pygments_lexer": "ipython3",
   "version": "3.12.3"
  }
 },
 "nbformat": 4,
 "nbformat_minor": 5
}
